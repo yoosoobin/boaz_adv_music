{
 "cells": [
  {
   "cell_type": "code",
   "execution_count": 18,
   "id": "52620fab",
   "metadata": {},
   "outputs": [],
   "source": [
    "import pandas as pd\n",
    "import numpy as np"
   ]
  },
  {
   "cell_type": "code",
   "execution_count": 19,
   "id": "6dd10f67",
   "metadata": {},
   "outputs": [],
   "source": [
    "df = pd.read_csv('song_genre_list_all.csv')\n",
    "df.drop('Unnamed: 0', axis=1, inplace=True)\n",
    "df.drop('song_id', axis=1, inplace=True)\n",
    "df.drop('All', axis=1, inplace=True)\n",
    "df.drop('processed_song_tag', axis=1, inplace=True)"
   ]
  },
  {
   "cell_type": "code",
   "execution_count": 21,
   "id": "515e0395",
   "metadata": {},
   "outputs": [
    {
     "data": {
      "text/html": [
       "<div>\n",
       "<style scoped>\n",
       "    .dataframe tbody tr th:only-of-type {\n",
       "        vertical-align: middle;\n",
       "    }\n",
       "\n",
       "    .dataframe tbody tr th {\n",
       "        vertical-align: top;\n",
       "    }\n",
       "\n",
       "    .dataframe thead th {\n",
       "        text-align: right;\n",
       "    }\n",
       "</style>\n",
       "<table border=\"1\" class=\"dataframe\">\n",
       "  <thead>\n",
       "    <tr style=\"text-align: right;\">\n",
       "      <th></th>\n",
       "      <th>곡 제목</th>\n",
       "      <th>아티스트 리스트</th>\n",
       "      <th>song_genre</th>\n",
       "      <th>song_deatil_genre</th>\n",
       "      <th>song_tag</th>\n",
       "      <th>앨범 명</th>\n",
       "    </tr>\n",
       "  </thead>\n",
       "  <tbody>\n",
       "    <tr>\n",
       "      <th>0</th>\n",
       "      <td>Back To December</td>\n",
       "      <td>Taylor Swift</td>\n",
       "      <td>포크블루스컨트리</td>\n",
       "      <td>세부장르전체 컨트리</td>\n",
       "      <td>휴식 힐링 까페 드라이브 팝송입문 취향저격노래 인생곡 출근길 아침 여행 감각적 기분...</td>\n",
       "      <td>Speak Now (Deluxe Package)</td>\n",
       "    </tr>\n",
       "    <tr>\n",
       "      <th>1</th>\n",
       "      <td>설렘이라는 건</td>\n",
       "      <td>펜타곤</td>\n",
       "      <td>아이돌 발라드</td>\n",
       "      <td>남자 아이돌 10 세부장르전체 발라드</td>\n",
       "      <td>추억 기분전환 회상 아이돌의숨은명곡 달달 명곡 슬픔 아이돌</td>\n",
       "      <td>DEMO_01</td>\n",
       "    </tr>\n",
       "    <tr>\n",
       "      <th>2</th>\n",
       "      <td>With You</td>\n",
       "      <td>여희</td>\n",
       "      <td>댄스</td>\n",
       "      <td>세부장르전체</td>\n",
       "      <td>댄스 봄 설렘 사랑 발라드 락</td>\n",
       "      <td>Beautiful Day</td>\n",
       "    </tr>\n",
       "    <tr>\n",
       "      <th>3</th>\n",
       "      <td>Home</td>\n",
       "      <td>Sean Lennon</td>\n",
       "      <td>록메탈</td>\n",
       "      <td>90 모던록 세부장르전체</td>\n",
       "      <td>겨울 감성 카페 요코 비틀즈 존레논 팝 우울</td>\n",
       "      <td>Into The Sun</td>\n",
       "    </tr>\n",
       "    <tr>\n",
       "      <th>4</th>\n",
       "      <td>0826 사적인</td>\n",
       "      <td>어어부 프로젝트</td>\n",
       "      <td>인디음악 록메탈</td>\n",
       "      <td>세부장르전체 록 10</td>\n",
       "      <td>음악</td>\n",
       "      <td>탐정명 나그네의 기록</td>\n",
       "    </tr>\n",
       "  </tbody>\n",
       "</table>\n",
       "</div>"
      ],
      "text/plain": [
       "               곡 제목      아티스트 리스트 song_genre     song_deatil_genre  \\\n",
       "0  Back To December  Taylor Swift   포크블루스컨트리            세부장르전체 컨트리   \n",
       "1           설렘이라는 건           펜타곤    아이돌 발라드  남자 아이돌 10 세부장르전체 발라드   \n",
       "2          With You            여희         댄스                세부장르전체   \n",
       "3              Home   Sean Lennon        록메탈         90 모던록 세부장르전체   \n",
       "4          0826 사적인      어어부 프로젝트   인디음악 록메탈           세부장르전체 록 10   \n",
       "\n",
       "                                            song_tag  \\\n",
       "0  휴식 힐링 까페 드라이브 팝송입문 취향저격노래 인생곡 출근길 아침 여행 감각적 기분...   \n",
       "1                   추억 기분전환 회상 아이돌의숨은명곡 달달 명곡 슬픔 아이돌   \n",
       "2                                   댄스 봄 설렘 사랑 발라드 락   \n",
       "3                           겨울 감성 카페 요코 비틀즈 존레논 팝 우울   \n",
       "4                                                 음악   \n",
       "\n",
       "                         앨범 명  \n",
       "0  Speak Now (Deluxe Package)  \n",
       "1                     DEMO_01  \n",
       "2               Beautiful Day  \n",
       "3                Into The Sun  \n",
       "4                 탐정명 나그네의 기록  "
      ]
     },
     "execution_count": 21,
     "metadata": {},
     "output_type": "execute_result"
    }
   ],
   "source": [
    "df.head()"
   ]
  },
  {
   "cell_type": "code",
   "execution_count": 22,
   "id": "0ea8f7d1",
   "metadata": {},
   "outputs": [
    {
     "data": {
      "text/plain": [
       "(1965, 6)"
      ]
     },
     "execution_count": 22,
     "metadata": {},
     "output_type": "execute_result"
    }
   ],
   "source": [
    "df.shape"
   ]
  },
  {
   "cell_type": "code",
   "execution_count": 24,
   "id": "008a4ca2",
   "metadata": {},
   "outputs": [],
   "source": [
    "df['song_tag'] = df['song_tag'].apply(lambda x : x.split())"
   ]
  },
  {
   "cell_type": "code",
   "execution_count": 27,
   "id": "e2609f15",
   "metadata": {},
   "outputs": [
    {
     "data": {
      "text/html": [
       "<div>\n",
       "<style scoped>\n",
       "    .dataframe tbody tr th:only-of-type {\n",
       "        vertical-align: middle;\n",
       "    }\n",
       "\n",
       "    .dataframe tbody tr th {\n",
       "        vertical-align: top;\n",
       "    }\n",
       "\n",
       "    .dataframe thead th {\n",
       "        text-align: right;\n",
       "    }\n",
       "</style>\n",
       "<table border=\"1\" class=\"dataframe\">\n",
       "  <thead>\n",
       "    <tr style=\"text-align: right;\">\n",
       "      <th></th>\n",
       "      <th>곡 제목</th>\n",
       "      <th>아티스트 리스트</th>\n",
       "      <th>song_genre</th>\n",
       "      <th>song_deatil_genre</th>\n",
       "      <th>song_tag</th>\n",
       "      <th>앨범 명</th>\n",
       "    </tr>\n",
       "  </thead>\n",
       "  <tbody>\n",
       "    <tr>\n",
       "      <th>0</th>\n",
       "      <td>Back To December</td>\n",
       "      <td>Taylor Swift</td>\n",
       "      <td>포크블루스컨트리</td>\n",
       "      <td>세부장르전체 컨트리</td>\n",
       "      <td>[휴식, 힐링, 까페, 드라이브, 팝송입문, 취향저격노래, 인생곡, 출근길, 아침,...</td>\n",
       "      <td>Speak Now (Deluxe Package)</td>\n",
       "    </tr>\n",
       "    <tr>\n",
       "      <th>1</th>\n",
       "      <td>설렘이라는 건</td>\n",
       "      <td>펜타곤</td>\n",
       "      <td>아이돌 발라드</td>\n",
       "      <td>남자 아이돌 10 세부장르전체 발라드</td>\n",
       "      <td>[추억, 기분전환, 회상, 아이돌의숨은명곡, 달달, 명곡, 슬픔, 아이돌]</td>\n",
       "      <td>DEMO_01</td>\n",
       "    </tr>\n",
       "    <tr>\n",
       "      <th>2</th>\n",
       "      <td>With You</td>\n",
       "      <td>여희</td>\n",
       "      <td>댄스</td>\n",
       "      <td>세부장르전체</td>\n",
       "      <td>[댄스, 봄, 설렘, 사랑, 발라드, 락]</td>\n",
       "      <td>Beautiful Day</td>\n",
       "    </tr>\n",
       "    <tr>\n",
       "      <th>3</th>\n",
       "      <td>Home</td>\n",
       "      <td>Sean Lennon</td>\n",
       "      <td>록메탈</td>\n",
       "      <td>90 모던록 세부장르전체</td>\n",
       "      <td>[겨울, 감성, 카페, 요코, 비틀즈, 존레논, 팝, 우울]</td>\n",
       "      <td>Into The Sun</td>\n",
       "    </tr>\n",
       "    <tr>\n",
       "      <th>4</th>\n",
       "      <td>0826 사적인</td>\n",
       "      <td>어어부 프로젝트</td>\n",
       "      <td>인디음악 록메탈</td>\n",
       "      <td>세부장르전체 록 10</td>\n",
       "      <td>[음악]</td>\n",
       "      <td>탐정명 나그네의 기록</td>\n",
       "    </tr>\n",
       "  </tbody>\n",
       "</table>\n",
       "</div>"
      ],
      "text/plain": [
       "               곡 제목      아티스트 리스트 song_genre     song_deatil_genre  \\\n",
       "0  Back To December  Taylor Swift   포크블루스컨트리            세부장르전체 컨트리   \n",
       "1           설렘이라는 건           펜타곤    아이돌 발라드  남자 아이돌 10 세부장르전체 발라드   \n",
       "2          With You            여희         댄스                세부장르전체   \n",
       "3              Home   Sean Lennon        록메탈         90 모던록 세부장르전체   \n",
       "4          0826 사적인      어어부 프로젝트   인디음악 록메탈           세부장르전체 록 10   \n",
       "\n",
       "                                            song_tag  \\\n",
       "0  [휴식, 힐링, 까페, 드라이브, 팝송입문, 취향저격노래, 인생곡, 출근길, 아침,...   \n",
       "1          [추억, 기분전환, 회상, 아이돌의숨은명곡, 달달, 명곡, 슬픔, 아이돌]   \n",
       "2                            [댄스, 봄, 설렘, 사랑, 발라드, 락]   \n",
       "3                  [겨울, 감성, 카페, 요코, 비틀즈, 존레논, 팝, 우울]   \n",
       "4                                               [음악]   \n",
       "\n",
       "                         앨범 명  \n",
       "0  Speak Now (Deluxe Package)  \n",
       "1                     DEMO_01  \n",
       "2               Beautiful Day  \n",
       "3                Into The Sun  \n",
       "4                 탐정명 나그네의 기록  "
      ]
     },
     "execution_count": 27,
     "metadata": {},
     "output_type": "execute_result"
    }
   ],
   "source": [
    "df.head()"
   ]
  },
  {
   "cell_type": "code",
   "execution_count": null,
   "id": "ab91eb34",
   "metadata": {},
   "outputs": [],
   "source": []
  },
  {
   "cell_type": "code",
   "execution_count": 25,
   "id": "e9dda1d2",
   "metadata": {},
   "outputs": [],
   "source": [
    "from gensim import corpora\n",
    "from gensim import models"
   ]
  },
  {
   "cell_type": "code",
   "execution_count": 28,
   "id": "19d77925",
   "metadata": {},
   "outputs": [
    {
     "data": {
      "text/plain": [
       "43"
      ]
     },
     "execution_count": 28,
     "metadata": {},
     "output_type": "execute_result"
    }
   ],
   "source": [
    "len(df['song_tag'][0])"
   ]
  },
  {
   "cell_type": "code",
   "execution_count": 29,
   "id": "8d25794b",
   "metadata": {},
   "outputs": [],
   "source": [
    "# 인덱스를 만들어주고, x에 내용 전처리\n",
    "def index_rmv(x):\n",
    "    index = []\n",
    "    for i in range(len(x)):\n",
    "        if len(x[i]) == 1:\n",
    "            index.append(i)\n",
    "    \n",
    "    index.sort(reverse = True)\n",
    "    \n",
    "    for num in index:\n",
    "        del x[num] # 한글자 짜리 단어는 지우겠다\n",
    "    return x"
   ]
  },
  {
   "cell_type": "code",
   "execution_count": 30,
   "id": "8ce6d212",
   "metadata": {},
   "outputs": [],
   "source": [
    "df['index_rmv'] = df['song_tag'].apply(lambda x : index_rmv(x))"
   ]
  },
  {
   "cell_type": "code",
   "execution_count": 35,
   "id": "03d9a444",
   "metadata": {},
   "outputs": [],
   "source": [
    "# 단어 행렬 쌓는 함수\n",
    "def build_doc_word_matrix(docs):\n",
    "    # 딕셔너리 형태\n",
    "    dictionary = corpora.Dictionary(docs)\n",
    "    corpus = []\n",
    "    for doc in docs:\n",
    "        bow = dictionary.doc2bow(doc)\n",
    "        corpus.append(bow)\n",
    "\n",
    "    return corpus, dictionary"
   ]
  },
  {
   "cell_type": "code",
   "execution_count": 37,
   "id": "7c9e6262",
   "metadata": {},
   "outputs": [],
   "source": [
    "corpus, dictionary = build_doc_word_matrix(df['index_rmv'])"
   ]
  },
  {
   "cell_type": "code",
   "execution_count": 40,
   "id": "bd18d49e",
   "metadata": {
    "scrolled": true
   },
   "outputs": [
    {
     "name": "stdout",
     "output_type": "stream",
     "text": [
      "Number of unique tokens: 4505\n",
      "Number of documents: 1965\n"
     ]
    }
   ],
   "source": [
    "print('Number of unique tokens: %d' % len(dictionary))\n",
    "print('Number of documents: %d' % len(corpus))"
   ]
  },
  {
   "cell_type": "code",
   "execution_count": 94,
   "id": "a1ed008b",
   "metadata": {},
   "outputs": [],
   "source": [
    "import matplotlib.pyplot as plt\n",
    "\n",
    "import seaborn as sns\n",
    "\n",
    "plt.rcParams['figure.figsize'] = [10, 6]"
   ]
  },
  {
   "cell_type": "code",
   "execution_count": 99,
   "id": "397aad99",
   "metadata": {},
   "outputs": [],
   "source": [
    "df['tag_count'] = df['index_rmv'].apply(lambda x : len(x))"
   ]
  },
  {
   "cell_type": "code",
   "execution_count": 101,
   "id": "9a994ea7",
   "metadata": {},
   "outputs": [
    {
     "data": {
      "image/png": "[encoded data removed]",
      "text/plain": [
       "<Figure size 720x432 with 1 Axes>"
      ]
     },
     "metadata": {
      "needs_background": "light"
     },
     "output_type": "display_data"
    }
   ],
   "source": [
    "plt.bar(df.index, df['tag_count'])\n",
    "plt.show()"
   ]
  },
  {
   "cell_type": "code",
   "execution_count": 102,
   "id": "34d18f9a",
   "metadata": {},
   "outputs": [
    {
     "data": {
      "text/plain": [
       "count    1965.000000\n",
       "mean       11.427990\n",
       "std        21.393737\n",
       "min         0.000000\n",
       "25%         2.000000\n",
       "50%         6.000000\n",
       "75%        10.000000\n",
       "max       257.000000\n",
       "Name: tag_count, dtype: float64"
      ]
     },
     "execution_count": 102,
     "metadata": {},
     "output_type": "execute_result"
    }
   ],
   "source": [
    "df['tag_count'].describe()"
   ]
  },
  {
   "cell_type": "code",
   "execution_count": 103,
   "id": "5501de85",
   "metadata": {},
   "outputs": [
    {
     "data": {
      "text/html": [
       "<div>\n",
       "<style scoped>\n",
       "    .dataframe tbody tr th:only-of-type {\n",
       "        vertical-align: middle;\n",
       "    }\n",
       "\n",
       "    .dataframe tbody tr th {\n",
       "        vertical-align: top;\n",
       "    }\n",
       "\n",
       "    .dataframe thead th {\n",
       "        text-align: right;\n",
       "    }\n",
       "</style>\n",
       "<table border=\"1\" class=\"dataframe\">\n",
       "  <thead>\n",
       "    <tr style=\"text-align: right;\">\n",
       "      <th></th>\n",
       "      <th>곡 제목</th>\n",
       "      <th>아티스트 리스트</th>\n",
       "      <th>song_genre</th>\n",
       "      <th>song_deatil_genre</th>\n",
       "      <th>song_tag</th>\n",
       "      <th>앨범 명</th>\n",
       "      <th>index_rmv</th>\n",
       "      <th>tag_count</th>\n",
       "    </tr>\n",
       "  </thead>\n",
       "  <tbody>\n",
       "    <tr>\n",
       "      <th>64</th>\n",
       "      <td>1월부터 6월까지</td>\n",
       "      <td>윤종신</td>\n",
       "      <td>발라드</td>\n",
       "      <td>10 세부장르전체</td>\n",
       "      <td>[눈물, 발라드, 겨울, 매장음악, 카페, 주말, 겨울밤, 새벽감성, 밤새벽, 추위...</td>\n",
       "      <td>행보 2013 윤종신</td>\n",
       "      <td>[눈물, 발라드, 겨울, 매장음악, 카페, 주말, 겨울밤, 새벽감성, 밤새벽, 추위...</td>\n",
       "      <td>257</td>\n",
       "    </tr>\n",
       "  </tbody>\n",
       "</table>\n",
       "</div>"
      ],
      "text/plain": [
       "         곡 제목 아티스트 리스트 song_genre song_deatil_genre  \\\n",
       "64  1월부터 6월까지      윤종신        발라드         10 세부장르전체   \n",
       "\n",
       "                                             song_tag         앨범 명  \\\n",
       "64  [눈물, 발라드, 겨울, 매장음악, 카페, 주말, 겨울밤, 새벽감성, 밤새벽, 추위...  행보 2013 윤종신   \n",
       "\n",
       "                                            index_rmv  tag_count  \n",
       "64  [눈물, 발라드, 겨울, 매장음악, 카페, 주말, 겨울밤, 새벽감성, 밤새벽, 추위...        257  "
      ]
     },
     "execution_count": 103,
     "metadata": {},
     "output_type": "execute_result"
    }
   ],
   "source": [
    "df[df['tag_count'] == 257]"
   ]
  },
  {
   "cell_type": "code",
   "execution_count": 105,
   "id": "a0749ed7",
   "metadata": {},
   "outputs": [
    {
     "data": {
      "text/plain": [
       "(1076, 8)"
      ]
     },
     "execution_count": 105,
     "metadata": {},
     "output_type": "execute_result"
    }
   ],
   "source": [
    "pro_df = df[df['tag_count'] > 4]\n",
    "pro_df.shape"
   ]
  },
  {
   "cell_type": "code",
   "execution_count": 106,
   "id": "2f2201a9",
   "metadata": {},
   "outputs": [
    {
     "data": {
      "text/plain": [
       "Index(['곡 제목', '아티스트 리스트', 'song_genre', 'song_deatil_genre', 'song_tag',\n",
       "       '앨범 명', 'index_rmv', 'tag_count'],\n",
       "      dtype='object')"
      ]
     },
     "execution_count": 106,
     "metadata": {},
     "output_type": "execute_result"
    }
   ],
   "source": [
    "pro_df.columns"
   ]
  },
  {
   "cell_type": "code",
   "execution_count": null,
   "id": "3cf9df74",
   "metadata": {},
   "outputs": [],
   "source": []
  },
  {
   "cell_type": "code",
   "execution_count": 41,
   "id": "b4e39f83",
   "metadata": {},
   "outputs": [],
   "source": [
    "from gensim.models import CoherenceModel"
   ]
  },
  {
   "cell_type": "code",
   "execution_count": 107,
   "id": "f9b5520d",
   "metadata": {},
   "outputs": [],
   "source": [
    "def compute_coherence_values(dictionary, corpus, texts, limit, start=2, step=3):\n",
    "    \"\"\"\n",
    "    Compute c_v coherence for various number of topics\n",
    "\n",
    "    Parameters:\n",
    "    ----------\n",
    "    dictionary : Gensim dictionary\n",
    "    corpus : Gensim corpus\n",
    "    texts : List of input texts\n",
    "    limit : Max num of topics\n",
    "\n",
    "    Returns:\n",
    "    -------\n",
    "    model_list : List of LDA topic models\n",
    "    coherence_values : Coherence values corresponding to the LDA model with respective number of topics\n",
    "    \"\"\"\n",
    "    coherence_values = []\n",
    "    model_list = []\n",
    "    # LDA 모델 함수\n",
    "    for num_topics in range(start, limit, step):\n",
    "        model = models.ldamodel.LdaModel(corpus, num_topics=num_topics,\n",
    "                        id2word=dictionary,\n",
    "                        alpha='auto')        \n",
    "        model_list.append(model)\n",
    "        coherencemodel = CoherenceModel(model=model, texts=texts, dictionary=dictionary, coherence='c_v')\n",
    "        coherence_values.append(coherencemodel.get_coherence())\n",
    "\n",
    "    return model_list, coherence_values"
   ]
  },
  {
   "cell_type": "code",
   "execution_count": 123,
   "id": "de779632",
   "metadata": {},
   "outputs": [],
   "source": [
    "model_list, coherence_values = compute_coherence_values(dictionary=dictionary, corpus=corpus,\n",
    "                                                        texts=df['index_rmv'], start=2, limit=40, step=6)"
   ]
  },
  {
   "cell_type": "code",
   "execution_count": 124,
   "id": "6d20c437",
   "metadata": {},
   "outputs": [
    {
     "data": {
      "image/png": "[encoded data removed]",
      "text/plain": [
       "<Figure size 360x216 with 1 Axes>"
      ]
     },
     "metadata": {
      "needs_background": "light"
     },
     "output_type": "display_data"
    }
   ],
   "source": [
    "plt.rcParams['figure.figsize'] = [5, 3]\n",
    "import matplotlib.pyplot as plt\n",
    "limit=40; start=2; step=6;\n",
    "x = range(start, limit, step)\n",
    "plt.plot(x, coherence_values)\n",
    "plt.xlabel(\"Num Topics\")\n",
    "plt.ylabel(\"Coherence score\")\n",
    "plt.legend((\"coherence_values\"), loc='best')\n",
    "plt.show();\n",
    "\n",
    "# coherence score은 높거나 낮음이 좋고 나쁨이 없다\n",
    "# 적당한 보완을 찾는 것\n",
    "# 그림처럼 \"산\" 모양이 이상적"
   ]
  },
  {
   "cell_type": "code",
   "execution_count": 125,
   "id": "2b5db706",
   "metadata": {},
   "outputs": [],
   "source": [
    "def print_topic_words(model):\n",
    "    f = open('topic_results_test.txt','w')\n",
    "    for topic_id in range(model.num_topics):\n",
    "        word_probs = model.show_topic(topic_id, NUM_TOPIC_WORDS)\n",
    "        print(\"Topic ID: {}\".format(topic_id))\n",
    "        f.write(str(topic_id)+'\\n')\n",
    "        for word, prob in word_probs:\n",
    "            print(\"\\t{}\\t{}\".format(word, prob))\n",
    "            f.write(str(word)+'\\t'+str(prob)+'\\n')\n",
    "        print(\"\\n\")\n",
    "    f.close()"
   ]
  },
  {
   "cell_type": "code",
   "execution_count": 139,
   "id": "51de3a64",
   "metadata": {},
   "outputs": [],
   "source": [
    "# 하이퍼파라미터\n",
    "NUM_TOPICS = 5\n",
    "NUM_TOPIC_WORDS = 20"
   ]
  },
  {
   "cell_type": "code",
   "execution_count": 142,
   "id": "169331eb",
   "metadata": {},
   "outputs": [
    {
     "name": "stdout",
     "output_type": "stream",
     "text": [
      "Topic ID: 0\n",
      "\t기분전환\t0.020966438576579094\n",
      "\t잔잔한\t0.016097022220492363\n",
      "\t새벽\t0.0154725955799222\n",
      "\t매장음악\t0.014649435877799988\n",
      "\t드라이브\t0.013170667923986912\n",
      "\t신나는\t0.01268806867301464\n",
      "\t감성\t0.009705907665193081\n",
      "\t카페\t0.009245943278074265\n",
      "\t까페\t0.0088352020829916\n",
      "\t알앤비\t0.00777884665876627\n",
      "\t사랑\t0.007133734878152609\n",
      "\t소울\t0.006468122825026512\n",
      "\t뉴에이지\t0.0064374529756605625\n",
      "\t여행\t0.006318545900285244\n",
      "\t댄스\t0.006026087794452906\n",
      "\t힙합\t0.005859564058482647\n",
      "\t비오는날\t0.005688539706170559\n",
      "\t휴식\t0.005517594516277313\n",
      "\t스트레스\t0.005415498279035091\n",
      "\t매장\t0.0050420863553881645\n",
      "\n",
      "\n",
      "Topic ID: 1\n",
      "\t발라드\t0.015165229327976704\n",
      "\t감성\t0.012653087265789509\n",
      "\t드라이브\t0.012612265534698963\n",
      "\t기분전환\t0.011937446892261505\n",
      "\t여행\t0.011669671162962914\n",
      "\t인디\t0.011083874851465225\n",
      "\t잔잔한\t0.009855814278125763\n",
      "\t사랑\t0.009544450789690018\n",
      "\t휴식\t0.00909089669585228\n",
      "\t새벽\t0.008689414709806442\n",
      "\t추억\t0.00823501031845808\n",
      "\t힐링\t0.008144574239850044\n",
      "\t일렉\t0.007828403264284134\n",
      "\t카페\t0.007353499066084623\n",
      "\t여름\t0.007255141623318195\n",
      "\t운동\t0.0072327544912695885\n",
      "\t힙합\t0.007004937157034874\n",
      "\t신나는\t0.006894940044730902\n",
      "\t설렘\t0.006820704787969589\n",
      "\tPop\t0.006781126372516155\n",
      "\n",
      "\n",
      "Topic ID: 2\n",
      "\t기분전환\t0.03296271711587906\n",
      "\t감성\t0.018039051443338394\n",
      "\t사랑\t0.015389599837362766\n",
      "\t드라이브\t0.013586992397904396\n",
      "\t힐링\t0.011550283059477806\n",
      "\t스트레스\t0.011119124479591846\n",
      "\t휴식\t0.010661403648555279\n",
      "\t발라드\t0.010649179108440876\n",
      "\t잔잔한\t0.010496466420590878\n",
      "\t새벽\t0.010420579463243484\n",
      "\t카페\t0.009946676902472973\n",
      "\t설렘\t0.009373385459184647\n",
      "\t댄스\t0.008960297331213951\n",
      "\t매장음악\t0.007898334413766861\n",
      "\t추억\t0.007431130390614271\n",
      "\t재즈\t0.007068620063364506\n",
      "\t운동\t0.0070665450766682625\n",
      "\t뉴에이지\t0.0069129616022109985\n",
      "\t이별\t0.006861650384962559\n",
      "\t힙합\t0.006629823241382837\n",
      "\n",
      "\n",
      "Topic ID: 3\n",
      "\t힙합\t0.017052127048373222\n",
      "\t기분전환\t0.014215498231351376\n",
      "\t클래식\t0.013704095035791397\n",
      "\t재즈\t0.010439155623316765\n",
      "\t드라이브\t0.009244468994438648\n",
      "\tPop\t0.009234106168150902\n",
      "\t스트레스\t0.009001484140753746\n",
      "\t휴식\t0.008984645828604698\n",
      "\t힐링\t0.007399814669042826\n",
      "\t발라드\t0.007069723214954138\n",
      "\t신나는\t0.007041572127491236\n",
      "\t여행\t0.006902093067765236\n",
      "\t클럽\t0.006058694329112768\n",
      "\tEDM\t0.005412487778812647\n",
      "\t감성\t0.0050473748706281185\n",
      "\t잔잔한\t0.004820745438337326\n",
      "\t비오는날\t0.004611778538674116\n",
      "\t댄스\t0.004569120239466429\n",
      "\t가을\t0.004548553377389908\n",
      "\t이별\t0.004476301372051239\n",
      "\n",
      "\n",
      "Topic ID: 4\n",
      "\t휴식\t0.023693569004535675\n",
      "\t힐링\t0.02297385223209858\n",
      "\t감성\t0.016001425683498383\n",
      "\t잔잔한\t0.01579262875020504\n",
      "\t추억\t0.015336554497480392\n",
      "\t새벽\t0.014299136586487293\n",
      "\t드라이브\t0.013292594812810421\n",
      "\t회상\t0.013171541504561901\n",
      "\t기분전환\t0.013147389516234398\n",
      "\t카페\t0.011994159780442715\n",
      "\t발라드\t0.009775476530194283\n",
      "\t가을\t0.009201870299875736\n",
      "\t힙합\t0.008917958475649357\n",
      "\t겨울\t0.008122866041958332\n",
      "\t스트레스\t0.0077802990563213825\n",
      "\t비오는날\t0.007485590875148773\n",
      "\t매장음악\t0.007432124577462673\n",
      "\t사랑\t0.007303616032004356\n",
      "\t여행\t0.006478852592408657\n",
      "\t슬픔\t0.006413237191736698\n",
      "\n",
      "\n"
     ]
    }
   ],
   "source": [
    "lda_model = models.ldamodel.LdaModel(corpus, num_topics=NUM_TOPICS,\n",
    "                            id2word=dictionary,\n",
    "                            alpha='auto')\n",
    "print_topic_words(lda_model)"
   ]
  },
  {
   "cell_type": "code",
   "execution_count": 143,
   "id": "d66addc9",
   "metadata": {},
   "outputs": [],
   "source": [
    "words_per_topics = [list() for topic_id in range(NUM_TOPICS)]\n",
    "\n",
    "for topic_id in range(lda_model.num_topics):\n",
    "    word_probs = lda_model.show_topic(topic_id, NUM_TOPIC_WORDS)\n",
    "    for word, prob in word_probs:\n",
    "        words_per_topics[topic_id].append(word)"
   ]
  },
  {
   "cell_type": "code",
   "execution_count": 129,
   "id": "36e488d2",
   "metadata": {},
   "outputs": [
    {
     "data": {
      "text/html": [
       "<div>\n",
       "<style scoped>\n",
       "    .dataframe tbody tr th:only-of-type {\n",
       "        vertical-align: middle;\n",
       "    }\n",
       "\n",
       "    .dataframe tbody tr th {\n",
       "        vertical-align: top;\n",
       "    }\n",
       "\n",
       "    .dataframe thead th {\n",
       "        text-align: right;\n",
       "    }\n",
       "</style>\n",
       "<table border=\"1\" class=\"dataframe\">\n",
       "  <thead>\n",
       "    <tr style=\"text-align: right;\">\n",
       "      <th></th>\n",
       "      <th>0</th>\n",
       "      <th>1</th>\n",
       "      <th>2</th>\n",
       "      <th>3</th>\n",
       "      <th>4</th>\n",
       "      <th>5</th>\n",
       "      <th>6</th>\n",
       "      <th>7</th>\n",
       "      <th>8</th>\n",
       "      <th>9</th>\n",
       "      <th>10</th>\n",
       "      <th>11</th>\n",
       "      <th>12</th>\n",
       "      <th>13</th>\n",
       "      <th>14</th>\n",
       "      <th>15</th>\n",
       "      <th>16</th>\n",
       "      <th>17</th>\n",
       "      <th>18</th>\n",
       "      <th>19</th>\n",
       "    </tr>\n",
       "  </thead>\n",
       "  <tbody>\n",
       "    <tr>\n",
       "      <th>0</th>\n",
       "      <td>힐링</td>\n",
       "      <td>잔잔한</td>\n",
       "      <td>휴식</td>\n",
       "      <td>기분전환</td>\n",
       "      <td>발라드</td>\n",
       "      <td>사랑</td>\n",
       "      <td>새벽</td>\n",
       "      <td>감성</td>\n",
       "      <td>카페</td>\n",
       "      <td>이별</td>\n",
       "      <td>비오는날</td>\n",
       "      <td>드라이브</td>\n",
       "      <td>여행</td>\n",
       "      <td>인디</td>\n",
       "      <td>겨울</td>\n",
       "      <td>매장음악</td>\n",
       "      <td>설렘</td>\n",
       "      <td>힙합</td>\n",
       "      <td>일렉</td>\n",
       "      <td>스트레스</td>\n",
       "    </tr>\n",
       "    <tr>\n",
       "      <th>1</th>\n",
       "      <td>기분전환</td>\n",
       "      <td>힙합</td>\n",
       "      <td>힐링</td>\n",
       "      <td>새벽</td>\n",
       "      <td>감성</td>\n",
       "      <td>휴식</td>\n",
       "      <td>추억</td>\n",
       "      <td>회상</td>\n",
       "      <td>드라이브</td>\n",
       "      <td>잔잔한</td>\n",
       "      <td>댄스</td>\n",
       "      <td>신나는</td>\n",
       "      <td>여행</td>\n",
       "      <td>알앤비</td>\n",
       "      <td>Pop</td>\n",
       "      <td>사랑</td>\n",
       "      <td>발라드</td>\n",
       "      <td>가을</td>\n",
       "      <td>슬픔</td>\n",
       "      <td>운동</td>\n",
       "    </tr>\n",
       "    <tr>\n",
       "      <th>2</th>\n",
       "      <td>기분전환</td>\n",
       "      <td>드라이브</td>\n",
       "      <td>감성</td>\n",
       "      <td>휴식</td>\n",
       "      <td>카페</td>\n",
       "      <td>잔잔한</td>\n",
       "      <td>발라드</td>\n",
       "      <td>사랑</td>\n",
       "      <td>스트레스</td>\n",
       "      <td>새벽</td>\n",
       "      <td>매장음악</td>\n",
       "      <td>추억</td>\n",
       "      <td>힐링</td>\n",
       "      <td>신나는</td>\n",
       "      <td>여름</td>\n",
       "      <td>설렘</td>\n",
       "      <td>여행</td>\n",
       "      <td>재즈</td>\n",
       "      <td>가을</td>\n",
       "      <td>알앤비</td>\n",
       "    </tr>\n",
       "  </tbody>\n",
       "</table>\n",
       "</div>"
      ],
      "text/plain": [
       "     0     1   2     3    4    5    6   7     8    9     10    11  12   13  \\\n",
       "0    힐링   잔잔한  휴식  기분전환  발라드   사랑   새벽  감성    카페   이별  비오는날  드라이브  여행   인디   \n",
       "1  기분전환    힙합  힐링    새벽   감성   휴식   추억  회상  드라이브  잔잔한    댄스   신나는  여행  알앤비   \n",
       "2  기분전환  드라이브  감성    휴식   카페  잔잔한  발라드  사랑  스트레스   새벽  매장음악    추억  힐링  신나는   \n",
       "\n",
       "    14    15   16  17  18    19  \n",
       "0   겨울  매장음악   설렘  힙합  일렉  스트레스  \n",
       "1  Pop    사랑  발라드  가을  슬픔    운동  \n",
       "2   여름    설렘   여행  재즈  가을   알앤비  "
      ]
     },
     "execution_count": 129,
     "metadata": {},
     "output_type": "execute_result"
    }
   ],
   "source": [
    "pd.DataFrame(words_per_topics)"
   ]
  },
  {
   "cell_type": "code",
   "execution_count": 138,
   "id": "1728eaa1",
   "metadata": {},
   "outputs": [
    {
     "data": {
      "text/html": [
       "<div>\n",
       "<style scoped>\n",
       "    .dataframe tbody tr th:only-of-type {\n",
       "        vertical-align: middle;\n",
       "    }\n",
       "\n",
       "    .dataframe tbody tr th {\n",
       "        vertical-align: top;\n",
       "    }\n",
       "\n",
       "    .dataframe thead th {\n",
       "        text-align: right;\n",
       "    }\n",
       "</style>\n",
       "<table border=\"1\" class=\"dataframe\">\n",
       "  <thead>\n",
       "    <tr style=\"text-align: right;\">\n",
       "      <th></th>\n",
       "      <th>0</th>\n",
       "      <th>1</th>\n",
       "      <th>2</th>\n",
       "      <th>3</th>\n",
       "      <th>4</th>\n",
       "      <th>5</th>\n",
       "      <th>6</th>\n",
       "      <th>7</th>\n",
       "      <th>8</th>\n",
       "      <th>9</th>\n",
       "      <th>10</th>\n",
       "      <th>11</th>\n",
       "      <th>12</th>\n",
       "      <th>13</th>\n",
       "      <th>14</th>\n",
       "      <th>15</th>\n",
       "      <th>16</th>\n",
       "      <th>17</th>\n",
       "      <th>18</th>\n",
       "      <th>19</th>\n",
       "    </tr>\n",
       "  </thead>\n",
       "  <tbody>\n",
       "    <tr>\n",
       "      <th>0</th>\n",
       "      <td>기분전환</td>\n",
       "      <td>여행</td>\n",
       "      <td>감성</td>\n",
       "      <td>휴식</td>\n",
       "      <td>드라이브</td>\n",
       "      <td>잔잔한</td>\n",
       "      <td>힐링</td>\n",
       "      <td>산책</td>\n",
       "      <td>알앤비</td>\n",
       "      <td>가을</td>\n",
       "      <td>Pop</td>\n",
       "      <td>카페</td>\n",
       "      <td>새벽</td>\n",
       "      <td>발라드</td>\n",
       "      <td>추억</td>\n",
       "      <td>사랑</td>\n",
       "      <td>슬픔</td>\n",
       "      <td>이별</td>\n",
       "      <td>겨울</td>\n",
       "      <td>스트레스</td>\n",
       "    </tr>\n",
       "    <tr>\n",
       "      <th>1</th>\n",
       "      <td>휴식</td>\n",
       "      <td>힐링</td>\n",
       "      <td>잔잔한</td>\n",
       "      <td>새벽</td>\n",
       "      <td>힙합</td>\n",
       "      <td>기분전환</td>\n",
       "      <td>카페</td>\n",
       "      <td>감성</td>\n",
       "      <td>겨울</td>\n",
       "      <td>댄스</td>\n",
       "      <td>사랑</td>\n",
       "      <td>매장음악</td>\n",
       "      <td>발라드</td>\n",
       "      <td>분위기</td>\n",
       "      <td>가을</td>\n",
       "      <td>이별</td>\n",
       "      <td>드라이브</td>\n",
       "      <td>알앤비</td>\n",
       "      <td>여행</td>\n",
       "      <td>운동</td>\n",
       "    </tr>\n",
       "    <tr>\n",
       "      <th>2</th>\n",
       "      <td>발라드</td>\n",
       "      <td>기분전환</td>\n",
       "      <td>새벽</td>\n",
       "      <td>감성</td>\n",
       "      <td>드라이브</td>\n",
       "      <td>잔잔한</td>\n",
       "      <td>일렉</td>\n",
       "      <td>비오는날</td>\n",
       "      <td>카페</td>\n",
       "      <td>클래식</td>\n",
       "      <td>이별</td>\n",
       "      <td>신나는</td>\n",
       "      <td>인디</td>\n",
       "      <td>힙합</td>\n",
       "      <td>설렘</td>\n",
       "      <td>가을</td>\n",
       "      <td>추억</td>\n",
       "      <td>힐링</td>\n",
       "      <td>휴식</td>\n",
       "      <td>사랑</td>\n",
       "    </tr>\n",
       "    <tr>\n",
       "      <th>3</th>\n",
       "      <td>기분전환</td>\n",
       "      <td>드라이브</td>\n",
       "      <td>감성</td>\n",
       "      <td>힐링</td>\n",
       "      <td>사랑</td>\n",
       "      <td>추억</td>\n",
       "      <td>휴식</td>\n",
       "      <td>잔잔한</td>\n",
       "      <td>스트레스</td>\n",
       "      <td>새벽</td>\n",
       "      <td>회상</td>\n",
       "      <td>매장음악</td>\n",
       "      <td>발라드</td>\n",
       "      <td>신나는</td>\n",
       "      <td>설렘</td>\n",
       "      <td>힙합</td>\n",
       "      <td>카페</td>\n",
       "      <td>뉴에이지</td>\n",
       "      <td>인디</td>\n",
       "      <td>댄스</td>\n",
       "    </tr>\n",
       "  </tbody>\n",
       "</table>\n",
       "</div>"
      ],
      "text/plain": [
       "     0     1    2   3     4     5   6     7     8    9    10    11   12   13  \\\n",
       "0  기분전환    여행   감성  휴식  드라이브   잔잔한  힐링    산책   알앤비   가을  Pop    카페   새벽  발라드   \n",
       "1    휴식    힐링  잔잔한  새벽    힙합  기분전환  카페    감성    겨울   댄스   사랑  매장음악  발라드  분위기   \n",
       "2   발라드  기분전환   새벽  감성  드라이브   잔잔한  일렉  비오는날    카페  클래식   이별   신나는   인디   힙합   \n",
       "3  기분전환  드라이브   감성  힐링    사랑    추억  휴식   잔잔한  스트레스   새벽   회상  매장음악  발라드  신나는   \n",
       "\n",
       "   14  15    16    17  18    19  \n",
       "0  추억  사랑    슬픔    이별  겨울  스트레스  \n",
       "1  가을  이별  드라이브   알앤비  여행    운동  \n",
       "2  설렘  가을    추억    힐링  휴식    사랑  \n",
       "3  설렘  힙합    카페  뉴에이지  인디    댄스  "
      ]
     },
     "execution_count": 138,
     "metadata": {},
     "output_type": "execute_result"
    }
   ],
   "source": [
    "pd.DataFrame(words_per_topics)"
   ]
  },
  {
   "cell_type": "code",
   "execution_count": 144,
   "id": "be41bffb",
   "metadata": {},
   "outputs": [
    {
     "data": {
      "text/html": [
       "<div>\n",
       "<style scoped>\n",
       "    .dataframe tbody tr th:only-of-type {\n",
       "        vertical-align: middle;\n",
       "    }\n",
       "\n",
       "    .dataframe tbody tr th {\n",
       "        vertical-align: top;\n",
       "    }\n",
       "\n",
       "    .dataframe thead th {\n",
       "        text-align: right;\n",
       "    }\n",
       "</style>\n",
       "<table border=\"1\" class=\"dataframe\">\n",
       "  <thead>\n",
       "    <tr style=\"text-align: right;\">\n",
       "      <th></th>\n",
       "      <th>0</th>\n",
       "      <th>1</th>\n",
       "      <th>2</th>\n",
       "      <th>3</th>\n",
       "      <th>4</th>\n",
       "      <th>5</th>\n",
       "      <th>6</th>\n",
       "      <th>7</th>\n",
       "      <th>8</th>\n",
       "      <th>9</th>\n",
       "      <th>10</th>\n",
       "      <th>11</th>\n",
       "      <th>12</th>\n",
       "      <th>13</th>\n",
       "      <th>14</th>\n",
       "      <th>15</th>\n",
       "      <th>16</th>\n",
       "      <th>17</th>\n",
       "      <th>18</th>\n",
       "      <th>19</th>\n",
       "    </tr>\n",
       "  </thead>\n",
       "  <tbody>\n",
       "    <tr>\n",
       "      <th>0</th>\n",
       "      <td>기분전환</td>\n",
       "      <td>잔잔한</td>\n",
       "      <td>새벽</td>\n",
       "      <td>매장음악</td>\n",
       "      <td>드라이브</td>\n",
       "      <td>신나는</td>\n",
       "      <td>감성</td>\n",
       "      <td>카페</td>\n",
       "      <td>까페</td>\n",
       "      <td>알앤비</td>\n",
       "      <td>사랑</td>\n",
       "      <td>소울</td>\n",
       "      <td>뉴에이지</td>\n",
       "      <td>여행</td>\n",
       "      <td>댄스</td>\n",
       "      <td>힙합</td>\n",
       "      <td>비오는날</td>\n",
       "      <td>휴식</td>\n",
       "      <td>스트레스</td>\n",
       "      <td>매장</td>\n",
       "    </tr>\n",
       "    <tr>\n",
       "      <th>1</th>\n",
       "      <td>발라드</td>\n",
       "      <td>감성</td>\n",
       "      <td>드라이브</td>\n",
       "      <td>기분전환</td>\n",
       "      <td>여행</td>\n",
       "      <td>인디</td>\n",
       "      <td>잔잔한</td>\n",
       "      <td>사랑</td>\n",
       "      <td>휴식</td>\n",
       "      <td>새벽</td>\n",
       "      <td>추억</td>\n",
       "      <td>힐링</td>\n",
       "      <td>일렉</td>\n",
       "      <td>카페</td>\n",
       "      <td>여름</td>\n",
       "      <td>운동</td>\n",
       "      <td>힙합</td>\n",
       "      <td>신나는</td>\n",
       "      <td>설렘</td>\n",
       "      <td>Pop</td>\n",
       "    </tr>\n",
       "    <tr>\n",
       "      <th>2</th>\n",
       "      <td>기분전환</td>\n",
       "      <td>감성</td>\n",
       "      <td>사랑</td>\n",
       "      <td>드라이브</td>\n",
       "      <td>힐링</td>\n",
       "      <td>스트레스</td>\n",
       "      <td>휴식</td>\n",
       "      <td>발라드</td>\n",
       "      <td>잔잔한</td>\n",
       "      <td>새벽</td>\n",
       "      <td>카페</td>\n",
       "      <td>설렘</td>\n",
       "      <td>댄스</td>\n",
       "      <td>매장음악</td>\n",
       "      <td>추억</td>\n",
       "      <td>재즈</td>\n",
       "      <td>운동</td>\n",
       "      <td>뉴에이지</td>\n",
       "      <td>이별</td>\n",
       "      <td>힙합</td>\n",
       "    </tr>\n",
       "    <tr>\n",
       "      <th>3</th>\n",
       "      <td>힙합</td>\n",
       "      <td>기분전환</td>\n",
       "      <td>클래식</td>\n",
       "      <td>재즈</td>\n",
       "      <td>드라이브</td>\n",
       "      <td>Pop</td>\n",
       "      <td>스트레스</td>\n",
       "      <td>휴식</td>\n",
       "      <td>힐링</td>\n",
       "      <td>발라드</td>\n",
       "      <td>신나는</td>\n",
       "      <td>여행</td>\n",
       "      <td>클럽</td>\n",
       "      <td>EDM</td>\n",
       "      <td>감성</td>\n",
       "      <td>잔잔한</td>\n",
       "      <td>비오는날</td>\n",
       "      <td>댄스</td>\n",
       "      <td>가을</td>\n",
       "      <td>이별</td>\n",
       "    </tr>\n",
       "    <tr>\n",
       "      <th>4</th>\n",
       "      <td>휴식</td>\n",
       "      <td>힐링</td>\n",
       "      <td>감성</td>\n",
       "      <td>잔잔한</td>\n",
       "      <td>추억</td>\n",
       "      <td>새벽</td>\n",
       "      <td>드라이브</td>\n",
       "      <td>회상</td>\n",
       "      <td>기분전환</td>\n",
       "      <td>카페</td>\n",
       "      <td>발라드</td>\n",
       "      <td>가을</td>\n",
       "      <td>힙합</td>\n",
       "      <td>겨울</td>\n",
       "      <td>스트레스</td>\n",
       "      <td>비오는날</td>\n",
       "      <td>매장음악</td>\n",
       "      <td>사랑</td>\n",
       "      <td>여행</td>\n",
       "      <td>슬픔</td>\n",
       "    </tr>\n",
       "  </tbody>\n",
       "</table>\n",
       "</div>"
      ],
      "text/plain": [
       "     0     1     2     3     4     5     6    7     8    9    10  11    12  \\\n",
       "0  기분전환   잔잔한    새벽  매장음악  드라이브   신나는    감성   카페    까페  알앤비   사랑  소울  뉴에이지   \n",
       "1   발라드    감성  드라이브  기분전환    여행    인디   잔잔한   사랑    휴식   새벽   추억  힐링    일렉   \n",
       "2  기분전환    감성    사랑  드라이브    힐링  스트레스    휴식  발라드   잔잔한   새벽   카페  설렘    댄스   \n",
       "3    힙합  기분전환   클래식    재즈  드라이브   Pop  스트레스   휴식    힐링  발라드  신나는  여행    클럽   \n",
       "4    휴식    힐링    감성   잔잔한    추억    새벽  드라이브   회상  기분전환   카페  발라드  가을    힙합   \n",
       "\n",
       "     13    14    15    16    17    18   19  \n",
       "0    여행    댄스    힙합  비오는날    휴식  스트레스   매장  \n",
       "1    카페    여름    운동    힙합   신나는    설렘  Pop  \n",
       "2  매장음악    추억    재즈    운동  뉴에이지    이별   힙합  \n",
       "3   EDM    감성   잔잔한  비오는날    댄스    가을   이별  \n",
       "4    겨울  스트레스  비오는날  매장음악    사랑    여행   슬픔  "
      ]
     },
     "execution_count": 144,
     "metadata": {},
     "output_type": "execute_result"
    }
   ],
   "source": [
    "pd.DataFrame(words_per_topics)"
   ]
  },
  {
   "cell_type": "code",
   "execution_count": 130,
   "id": "b56180df",
   "metadata": {},
   "outputs": [],
   "source": [
    "#!pip install pyLDAvis"
   ]
  },
  {
   "cell_type": "code",
   "execution_count": 131,
   "id": "145cb328",
   "metadata": {},
   "outputs": [],
   "source": [
    "import pyLDAvis\n",
    "\n",
    "#pyLDAvis.enable_notebook()\n",
    "\n",
    "#import pyLDAvis.gensim as gensimvis\n",
    "import pyLDAvis.gensim_models as gensim"
   ]
  },
  {
   "cell_type": "code",
   "execution_count": 132,
   "id": "00d90e1b",
   "metadata": {},
   "outputs": [],
   "source": [
    "prepared_data = gensim.prepare(lda_model, corpus, dictionary)"
   ]
  },
  {
   "cell_type": "code",
   "execution_count": 133,
   "id": "ac81d1e5",
   "metadata": {},
   "outputs": [
    {
     "data": {
      "text/html": [
       "\n",
       "<link rel=\"stylesheet\" type=\"text/css\" href=\"https://cdn.jsdelivr.net/gh/bmabey/pyLDAvis@3.3.1/pyLDAvis/js/ldavis.v1.0.0.css\">\n",
       "\n",
       "\n",
       "<div id=\"ldavis_el122881401948971858084226243192\"></div>\n",
       "<script type=\"text/javascript\">\n",
       "\n",
       "var ldavis_el122881401948971858084226243192_data = {\"mdsDat\": {\"x\": [-0.0024029771584880275, -0.03154633286677192, 0.03394931002525994], \"y\": [-0.03143773157270462, 0.01744899959865231, 0.013988731974052312], \"topics\": [1, 2, 3], \"cluster\": [1, 1, 1], \"Freq\": [46.69898498060071, 28.18467161330846, 25.11634340609083]}, \"tinfo\": {\"Term\": [\"\\ud790\\ub9c1\", \"\\ud799\\ud569\", \"\\ud68c\\uc0c1\", \"\\uc77c\\ub809\", \"\\ube44\\uc624\\ub294\\ub0a0\", \"\\uc0c8\\ubcbd\", \"\\uc774\\ubcc4\", \"\\ub304\\uc2a4\", \"\\uaca8\\uc6b8\", \"\\uc794\\uc794\\ud55c\", \"\\ubc1c\\ub77c\\ub4dc\", \"\\ucd94\\uc5b5\", \"EDM\", \"\\ud734\\uc2dd\", \"\\uc778\\ub514\", \"\\ud074\\ub7fd\", \"\\ud53c\\uc544\\ub178\", \"\\uc2ac\\ud514\", \"\\uc704\\ub85c\", \"OST\", \"\\uc6b4\\ub3d9\", \"\\uc5ec\\ub984\", \"\\uacf5\\ubd80\", \"\\uc54c\\uc564\\ube44\", \"\\uc790\\uc7a5\\uac00\", \"\\uae4c\\ud398\", \"HipHop\", \"\\ud3b8\\uc548\\ud55c\", \"\\uc0ac\\ub791\", \"\\uc2e0\\uace1\", \"\\ub9e4\\ub2c8\\uc544\", \"\\uc560\\ub2c8\\uba54\\uc774\\uc158\", \"Queen\", \"\\uc77c\\ub808\\ud2b8\\ub85c\\ub2c9\\ud31d\", \"before1970\", \"\\ubc14\\uc774\\uc62c\\ub9b0\", \"\\ud504\\ub9ac\\uc998\\uc2a4\\ud1a4\", \"\\ud0a4\\ube44\", \"\\uc7bc\\ud329\\ud1a0\\ub9ac\", \"\\uc791\\uac00\", \"\\ub9c8\\uc774\\ub178\\uc2a4\", \"\\uc774\\ub8e8\\ud380\\ud2b8\", \"newage\", \"\\uc11c\\uc9c0\\uc74c\", \"\\ud504\\ub9ac\\ud30c\\ub77c\", \"\\uc544\\uc774\\ub3cc\\uba54\\uc774\\ucee4\", \"\\uc5d0\\ud504\\uc5d1\\uc2a4\", \"\\ud788\\ub4e0\\ud2b8\\ub799\", \"\\ub9e4\\uc7a5\\uac10\\uc131\", \"\\ubc30\\uace0\\ud30c\", \"\\uac00\\uc744\\ub3d9\\ud654\", \"90s\", \"\\uac00\\uc2a4\\ud3a0\", \"Frenchpop\", \"\\ube0c\\ub9ac\\ud2f0\\uc26c\\ub77d\", \"\\uc544\\uc774\\uc2ac\\ub9ac\\ube0c\\ub77c\\ub354\\uc2a4\", \"\\ud799\\ud569DJ\", \"\\uc5b8\\ub354\\ucee4\\ubc84\", \"funk\", \"\\ub9e4\\ub2c8\\uc545\", \"\\uc601\\ud654OST\", \"\\ub290\\ub08c\", \"\\ub178\\uc744\", \"\\uc601\\ud654\\uc74c\\uc545\", \"\\uc5ec\\ub984\", \"\\uc608\\ubc30\", \"\\uc18c\\ub140\\uc2dc\\ub300\", \"\\uc640\\uc778\", \"\\ud3b8\\uc9d1\\uc20d\", \"\\uc7ac\\uc988\", \"\\uc77c\\ubcf8\", \"\\ub4dc\\ub77c\\uc774\\ube0c\", \"\\uce74\\ud398\", \"\\uae30\\ubd84\\uc804\\ud658\", \"\\ub9e4\\uc7a5\", \"\\ud074\\ub798\\uc2dd\", \"\\uac10\\uc131\", \"\\ucde8\\ud5a5\\uc800\\uaca9\", \"\\uc2a4\\ud2b8\\ub808\\uc2a4\", \"\\ud3ec\\uadfc\\ud55c\", \"\\uc800\\ub141\", \"\\ub9e4\\uc7a5\\uc74c\\uc545\", \"\\uc0ac\\ub791\", \"\\ubc1c\\ub77c\\ub4dc\", \"\\ud1f4\\uadfc\\uae38\", \"\\uc124\\ub818\", \"\\ud2b8\\ub80c\\ub514\", \"\\ubd84\\uc704\\uae30\", \"\\uc2e0\\ub098\\ub294\", \"\\ub290\\ub08c\\uc788\\ub294\", \"\\uc794\\uc794\\ud55c\", \"\\ud734\\uc2dd\", \"\\ucd94\\uc5b5\", \"\\ub178\\ub3d9\\uc694\", \"\\uc138\\ub828\\ub41c\", \"\\uadf8\\ub8e8\\ube0c\", \"\\uc54c\\uc564\\ube44\", \"\\uc5ec\\ud589\", \"\\uba85\\uace1\", \"\\uc0c8\\ubcbd\", \"\\uc5f0\\uc8fc\\uace1\", \"\\uac00\\uc744\", \"\\uc18c\\uc6b8\", \"\\uc778\\ub514\", \"\\ud790\\ub9c1\", \"\\ube44\\uc624\\ub294\\ub0a0\", \"\\ub304\\uc2a4\", \"Pop\", \"\\uc774\\ubcc4\", \"\\ud799\\ud569\", \"\\ud68c\\uc0c1\", \"\\uc0b0\\ucc45\", \"\\ub77c\\ud2f4\", \"World\", \"\\ub9c8\\ud2f4\\uac8c\\ub9ad\\uc2a4\", \"\\uc18c\\ud504\\ud2b8\\ub85d\", \"\\ud2b8\\ub79c\\uc2a4\", \"\\uc815\\uc2e0\\uc218\\uc591\\uc694\\uac00\\uc74c\\uc545\", \"\\uc694\\uac00\\uc6d0\", \"\\uc544\\uce68\\uc694\\uac00\", \"\\uc694\\uac00ASMR\", \"\\ud790\\ub9c1\\ud14c\\ub77c\\ud53c\", \"\\uba85\\uc0c1\\uc74c\\uc545\", \"\\uc694\\uac00\\uc74c\\uc545\", \"\\uc2a4\\ud2b8\\ub808\\uce6d\", \"\\ub9b4\\ub799\\uc2a4\\uc694\\uac00\", \"\\uc9c0\\uc5ed\\ubcc4\", \"round4\", \"\\uc54c\\ub9ac\\uc0e4\\ud0a4\\uc2a4\", \"AOR\", \"\\uc573\\ubaa8\\uc2a4\\ud53c\\uc5b4\", \"\\uba74\\ub3c4\", \"MartinGarrix\", \"\\ud0a4\\ub4dc\\ubc00\\ub9ac\", \"\\ub864\\ub85c\\uc8fc\\uc544\\uc774\", \"\\ube60\\ub978\\ube44\\ud2b8\", \"\\uc5b4\\uc154\", \"\\ud6f5\\ud06c\", \"\\ub4dc\\ub7fc\\uc564\\ubca0\\uc774\\uc2a4\", \"\\ub9ac\\ub4ec\\uc564\\ube14\\ub8e8\\uc2a4\", \"\\uc2dc\\ud0a4\", \"\\ud788\\ud31d\", \"\\uc2e0\\uace1\", \"\\ud574\\ub9ac\\uc2a4\\ud0c0\\uc77c\\uc2a4\", \"\\uac15\\ub82c\\ud55c\", \"\\uc6d4\\ub4dc\\ubba4\\uc9c1\", \"\\ud799\\ud569\", \"EDM\", \"\\ube4c\\ub85c\\uc6b0\", \"\\ud68c\\uc0c1\", \"HipHop\", \"\\ub304\\uc2a4\", \"EDMFloor\", \"\\uc704\\ub85c\", \"\\ubd90\\ubc41\", \"\\uad6d\\ub0b4\\ud799\\ud569\", \"\\ud799\\ud569\\uc5d8\\uc774\", \"\\ucd94\\uc5b5\", \"\\uc0c8\\ubcbd\", \"\\ud790\\ub9c1\", \"OST\", \"\\uc54c\\uc564\\ube44\", \"CCM\", \"\\uc2e0\\ub098\\ub294\", \"\\uc2ac\\ud514\", \"Pop\", \"\\ud074\\ub7fd\", \"\\uc0b0\\ucc45\", \"\\uc6b4\\ub3d9\", \"electronica\", \"\\ud734\\uc2dd\", \"\\uae30\\ubd84\\uc804\\ud658\", \"\\uac10\\uc131\", \"\\ud31d\\uc1a1\", \"\\uc5ec\\ud589\", \"\\uac00\\uc744\", \"\\ub274\\uc5d0\\uc774\\uc9c0\", \"\\uc794\\uc794\\ud55c\", \"\\ub4dc\\ub77c\\uc774\\ube0c\", \"\\uae4c\\ud398\", \"\\uc778\\ub514\", \"\\uc0ac\\ub791\", \"\\ub9e4\\uc7a5\\uc74c\\uc545\", \"\\uc774\\ubcc4\", \"\\ubc1c\\ub77c\\ub4dc\", \"\\uc2a4\\ud2b8\\ub808\\uc2a4\", \"\\uce74\\ud398\", \"\\ucc45\\uc77d\\uc744\\ub54c\", \"\\uae4a\\uc740\\ubc24\\uc5d0\", \"\\ub048\\uc801\\ub048\\uc801\\ud55c\", \"\\ub728\\uac70\\uc6b4\\ubc24\", \"\\ub808\\uc5b4\\ud55c\", \"\\uc2a4\\ud53c\\ub4dc\\uba54\\ud0c8\", \"\\uc815\\uc11c\", \"\\uba5c\\ub85c\\ub515\\uc2a4\\ud53c\\ub4dc\\uba54\\ud0c8\", \"\\ubc1c\\ub2ec\", \"\\ub450\\ub1cc\", \"\\ud0dc\\uc544\", \"\\uccad\\uac01\", \"\\uad11\\ub780\\uc758\", \"\\ud30c\\uc6cc\\uba54\\ud0c8\", \"\\uc544\\uc774\", \"\\uc0b0\\ubaa8\", \"\\uafc0\\ubc8c\\uacfc\\ucc9c\\ub465\", \"\\uc548\\uc815\", \"\\uc628\\ub2e4\\ub9ac\\ucfe0\", \"\\uc5b4\\ub9b0\\uc774\", \"\\uc544\\uc774\\ub4e4\", \"\\ubd81\\uc0c1\\ud558\\ub294\\uc7a5\\ub9c8\\uc804\\uc120\", \"\\uc774\\uad6d\\uc801\\uc778\", \"\\uc601\\uc5b4\\uacf5\\ubd80\", \"\\uc2dc\\uc791\\uc740\\uc5b8\\uc81c\\ub098\\ube44\", \"\\ub3d9\\uc591\\ud48d\", \"\\uc0ac\\uc0c9\\uc744\\uc704\\ud55c\\ud074\\ub798\\uc2dd\", \"\\uc3df\\uc544\\uc9c0\\ub294\\ube44\\uac00\\uadf8\\uce58\\uba74\\ub5a0\\ub098\\uc790\", \"\\ube14\\ub7ec\", \"\\uc720\\ub7fd\", \"TWICE\", \"\\ube14\\ub799\\ubba4\\uc9c1\", \"\\ub2ec\\ucf64\\ud55c\\uac10\\uc131\", \"\\uc5c4\\ub9c8\", \"\\ub3d9\\uc694\", \"\\uad6d\\ub0b4\\ucc28\\ud2b8\", \"\\uc778\\uc2f8\", \"\\ubbf8\\uc220\\uad00\", \"\\ub098\\ub978\\ud55c\", \"\\ud0dc\\uad50\", \"\\ubd81\\uce74\\ud398\", \"\\uc77c\\ub809\", \"\\uacf5\\ubd80\", \"\\uc219\\uba74\", \"\\ube44\\uc624\\ub294\\ub0a0\", \"\\uc5b4\\ub9b0\\uc774\\uc9d1\", \"\\ud790\\ub9c1\", \"\\uaca8\\uc6b8\", \"\\uc790\\uc7a5\\uac00\", \"\\uc774\\ubcc4\", \"\\ub3c5\\uc11c\", \"\\uc794\\uc794\\ud55c\", \"Winter\", \"\\ubc1c\\ub77c\\ub4dc\", \"JAYJE\", \"\\uc778\\ub514\", \"\\ud53c\\uc544\\ub178\", \"\\ud3b8\\uc548\\ud55c\", \"\\ud734\\uc2dd\", \"\\uc0ac\\ub791\", \"\\uc778\\ub514\\uc74c\\uc545\", \"\\uc5b4\\ucfe0\\uc2a4\\ud2f1\", \"\\uc124\\ub818\", \"\\uc5ec\\ud589\", \"\\uc0c8\\ubcbd\", \"\\uae4c\\ud398\", \"\\uac00\\uc744\", \"\\uce74\\ud398\", \"\\ud074\\ub7fd\", \"\\ub9e4\\uc7a5\\uc74c\\uc545\", \"\\uae30\\ubd84\\uc804\\ud658\", \"\\uc6b4\\ub3d9\", \"\\uac10\\uc131\", \"\\ud799\\ud569\", \"\\uc2ac\\ud514\", \"\\uc2a4\\ud2b8\\ub808\\uc2a4\", \"\\ub274\\uc5d0\\uc774\\uc9c0\", \"\\ub4dc\\ub77c\\uc774\\ube0c\", \"Pop\", \"\\ud68c\\uc0c1\", \"\\ucd94\\uc5b5\"], \"Freq\": [264.0, 180.0, 143.0, 81.0, 111.0, 240.0, 124.0, 122.0, 105.0, 267.0, 229.0, 194.0, 52.0, 286.0, 128.0, 79.0, 71.0, 101.0, 57.0, 81.0, 102.0, 111.0, 22.0, 118.0, 26.0, 94.0, 27.0, 44.0, 209.0, 15.0, 3.155414286467581, 11.023612287025738, 3.150619839362316, 3.1478626278817026, 3.145678589210541, 5.463331838595892, 3.101180479906741, 3.08084444291706, 3.847651081124366, 3.833771936550433, 3.0574899399606674, 3.057326045499179, 3.048680536354686, 3.798252313779364, 3.025490843471299, 3.755114803189376, 4.501561903711406, 5.985694312948352, 2.9620636868751427, 2.2180405152416487, 2.2115386052596633, 2.9454886767922144, 2.2082941358502475, 2.208050125381048, 2.2075085411689215, 2.2071882297399967, 2.2071642712386432, 2.2066524444008095, 2.205285131202542, 2.201014413884828, 9.443410255010868, 9.38108152703091, 5.810023256131818, 12.735318717922388, 82.00347614945132, 7.862145503228951, 5.752713910486392, 6.40123361246312, 5.009767497996535, 63.9759594894805, 8.375805395319043, 189.8643489226617, 133.4985421660078, 256.5208673382088, 39.87060137352094, 55.031899949776786, 177.64017826923526, 40.15946826133138, 101.64842665774431, 13.49353539408388, 29.80767432693624, 93.63010163566626, 111.4049778826886, 119.99975238263343, 29.647203031704553, 78.82794496235039, 40.76108362693842, 55.345332084172526, 83.11628352890712, 27.3947010354013, 126.6232714446358, 133.60825928364594, 93.38715937990264, 25.265074104638792, 15.978253562436493, 33.963915788756054, 58.43168515117788, 77.14725334556266, 41.68682058619481, 98.9091220967664, 31.60624787446033, 60.7457650740174, 35.90639905039781, 53.90777805360532, 84.2516418096115, 48.833336946534565, 51.572519425976914, 49.7324039735326, 46.793691432371624, 49.55621101815155, 46.8856383616937, 42.44759853297235, 3.182691759585711, 3.1598395969213926, 2.4994439629558105, 2.4973090559327615, 3.7521733266176507, 2.4812537814689164, 2.479674244995867, 2.4789372507767795, 2.478138917123812, 2.4768220534216745, 2.470938993844268, 2.4701559489991447, 2.460608364804264, 2.4590837206774494, 2.4200685250843605, 1.750778304801094, 1.7492262145011623, 1.746858475512873, 1.7460107755887946, 1.7464827024044158, 1.7460831671729238, 1.74492821747193, 1.7446029158496088, 1.7446205992900068, 1.7443120600955626, 1.744202275403092, 1.743292315032612, 1.7424807187993459, 1.742172363807406, 1.7422138093708388, 11.116564390823065, 2.8491771002120196, 4.953419011383282, 6.384335746417967, 92.09315305715889, 29.170420551639108, 2.817847385699403, 69.66848166998183, 15.530259012909132, 55.0623135700506, 2.780009980917822, 28.292514364120663, 4.607243192887135, 16.523458284582404, 4.554679534709121, 74.72159549746888, 86.11470605500598, 88.85606371926389, 33.06071554715537, 44.46659060141976, 13.652579734749464, 53.96427802197785, 37.49950076073613, 40.99012937257738, 30.077595780256292, 34.971287498075334, 35.93767277962512, 8.471263174807044, 77.0086419999819, 102.39170580990151, 77.98407236129526, 26.07343416477731, 47.49502123709862, 38.699466606502966, 28.115464811615926, 60.26558927891723, 62.92620435431792, 28.553480683034056, 32.19164223811572, 40.38254699118293, 35.15169690425569, 30.63497487436085, 38.88436465930434, 32.64167400728429, 28.451288080974077, 3.1439224606135237, 3.106946852012059, 3.0967137863435954, 3.0946379546393388, 3.076844173464148, 2.426811411549318, 2.4238366984270225, 2.4187063770538733, 2.415175526195217, 2.412046841055003, 2.4116239925281833, 2.410451310123058, 2.410220352096181, 2.40883476808419, 2.405066885675562, 2.3980726493093836, 2.3787094369366284, 2.9812541425191665, 2.353613475359423, 2.305710449665408, 1.6899019903900745, 1.6887133855054846, 1.6871797388493976, 1.6838944553029007, 1.6822818528465808, 1.6792687287944426, 2.227818665018828, 1.6784082583062474, 1.6787733262890299, 1.6765031418457375, 2.812497199596856, 3.333291956024128, 3.935203702010619, 3.335527997418671, 7.572530314789264, 2.7842100120064877, 2.2215289573316532, 3.238336197869377, 6.481119527838369, 7.2924312484022895, 4.655276003956748, 38.14901063700209, 12.443363204248895, 11.336435058238468, 46.02516063918415, 5.0567040355675985, 91.86936311999625, 42.30567994174052, 13.62448813477441, 46.88675259521126, 13.200716432443958, 81.10188519973015, 6.5468606550112405, 70.86692327886729, 5.7938816766386525, 42.84564700493624, 27.134058646623288, 18.663248356731447, 75.69753959648261, 57.6530538934897, 13.00293494339771, 14.857594543826771, 39.47878258303504, 43.98444112098336, 55.975306500155874, 28.415512925899044, 35.697187800751074, 47.09078620176121, 24.391407947512878, 39.606734971417765, 72.86659759969451, 27.829040403918214, 54.88589111176555, 38.8565123876346, 27.24050091429386, 35.870626609233156, 24.098542007281978, 45.376647571237214, 25.016057650772318, 27.35498518313911, 26.433595616809892], \"Total\": [264.0, 180.0, 143.0, 81.0, 111.0, 240.0, 124.0, 122.0, 105.0, 267.0, 229.0, 194.0, 52.0, 286.0, 128.0, 79.0, 71.0, 101.0, 57.0, 81.0, 102.0, 111.0, 22.0, 118.0, 26.0, 94.0, 27.0, 44.0, 209.0, 15.0, 3.6823129757220383, 12.871913735467578, 3.681269201852888, 3.6809032629307925, 3.6797257366788916, 6.43547226461457, 3.670213598443052, 3.666381018306738, 4.580414148479876, 4.577887932828345, 3.6613093937188155, 3.661438312528625, 3.657710841260025, 4.569473792769967, 3.6520908764478004, 4.559704959824062, 5.473170007367574, 7.294474337767275, 3.641140316135568, 2.729229769119917, 2.7277806453008737, 3.634230000211848, 2.726914439646326, 2.7272631561397884, 2.726822264425677, 2.726757452365559, 2.726758941752586, 2.7269190268653145, 2.726271751595206, 2.725158364652345, 11.772383547332515, 11.768101434667454, 7.254023808121362, 16.239308734389144, 111.65024681892262, 9.969722732565026, 7.249781133770895, 8.12618328334723, 6.3335840019692125, 88.87267391005534, 10.805350291031107, 298.1672008482168, 209.0406164487431, 431.7791707478048, 59.61260025313287, 85.08303171273373, 310.51014174229607, 61.18426667826543, 170.16072727426177, 18.64671855436855, 46.05516202092142, 168.38853351133974, 209.44057876736122, 229.75104032080506, 46.9101909059679, 143.31688296419225, 68.07479600165648, 99.66518277860592, 159.9394036011234, 44.12662838750825, 267.99074592328316, 286.31444088011045, 194.54235049418142, 41.31844179184766, 23.645346386524345, 59.901043791282135, 118.60342420663878, 168.62671570364466, 78.07512873892236, 240.99913465192824, 55.331576352612416, 135.14241948127145, 67.08170601725875, 128.94506729665727, 264.97706864887164, 111.07906800868423, 122.4912338428345, 115.7385909968823, 124.31541890194374, 180.50587646294505, 143.90910521481464, 97.68879989319916, 3.8570052852703514, 3.8665570208807374, 3.0974026432934303, 3.098961208111177, 4.680206487931254, 3.1055318203326596, 3.105328230478606, 3.105833541249998, 3.104857051338175, 3.1067982582137885, 3.1074800418598927, 3.108515407520586, 3.1090997051327554, 3.110408675021275, 3.105982326763474, 2.337525598031495, 2.337918007835769, 2.338322457978938, 2.3373803653623035, 2.338191217412472, 2.337907765004211, 2.338432939018892, 2.338039627833328, 2.338652575293203, 2.338704777240889, 2.3397238508328755, 2.3390982245725778, 2.3386581656074483, 2.3382812695309148, 2.338856851222898, 15.709664512366523, 3.928831245750775, 7.092184270703479, 9.486871264728515, 180.50587646294505, 52.82742765376327, 3.9696676204839583, 143.90910521481464, 27.62131051339407, 122.4912338428345, 3.973821568263767, 57.390742114526674, 7.141524400418542, 31.819513065954446, 7.1349813387591565, 194.54235049418142, 240.99913465192824, 264.97706864887164, 81.87827793729801, 118.60342420663878, 27.73036305389602, 159.9394036011234, 101.63176963154363, 115.7385909968823, 79.53426698315755, 97.68879989319916, 102.82893457794134, 15.462334436387314, 286.31444088011045, 431.7791707478048, 310.51014174229607, 70.88122509398372, 168.62671570364466, 135.14241948127145, 85.84820235478385, 267.99074592328316, 298.1672008482168, 94.04575171628022, 128.94506729665727, 209.44057876736122, 168.38853351133974, 124.31541890194374, 229.75104032080506, 170.16072727426177, 209.0406164487431, 3.7690012953430645, 3.775061909746894, 3.7751232321886783, 3.776378627428819, 3.778793622943363, 3.028393993764767, 3.029254531107867, 3.030192478326991, 3.0300386057681417, 3.0311216387387603, 3.0317232124688083, 3.031323365765018, 3.0317442195714213, 3.0313384611526013, 3.0322870748166433, 3.033325697052957, 3.0382649426704194, 3.814938970829724, 3.0405666582655932, 3.0562684028991125, 2.294192297497204, 2.2932588786086496, 2.293544226627264, 2.2933386714467194, 2.294240100184703, 2.2946620473503176, 3.044299509808421, 2.2947849251101182, 2.2972798506419116, 2.294971742903887, 3.857640565625023, 4.592374946752232, 5.442223070718318, 4.66424762239632, 10.968812687903798, 3.8697572333903905, 3.087376392638558, 4.679068809787409, 10.16406609184291, 11.766577158246212, 7.0951784248694345, 81.17677653860306, 22.29598990146779, 20.336724569015146, 111.07906800868423, 7.815144768405747, 264.97706864887164, 105.85520500856936, 26.44812991297865, 124.31541890194374, 26.191969212518718, 267.99074592328316, 10.794433060503371, 229.75104032080506, 9.369518306358623, 128.94506729665727, 71.95782844586776, 44.160959121263716, 286.31444088011045, 209.44057876736122, 29.36103806819638, 35.724288640126886, 143.31688296419225, 168.62671570364466, 240.99913465192824, 94.04575171628022, 135.14241948127145, 209.0406164487431, 79.53426698315755, 168.38853351133974, 431.7791707478048, 102.82893457794134, 310.51014174229607, 180.50587646294505, 101.63176963154363, 170.16072727426177, 85.84820235478385, 298.1672008482168, 115.7385909968823, 143.90910521481464, 194.54235049418142], \"Category\": [\"Default\", \"Default\", \"Default\", \"Default\", \"Default\", \"Default\", \"Default\", \"Default\", \"Default\", \"Default\", \"Default\", \"Default\", \"Default\", \"Default\", \"Default\", \"Default\", \"Default\", \"Default\", \"Default\", \"Default\", \"Default\", \"Default\", \"Default\", \"Default\", \"Default\", \"Default\", \"Default\", \"Default\", \"Default\", \"Default\", \"Topic1\", \"Topic1\", \"Topic1\", \"Topic1\", \"Topic1\", \"Topic1\", \"Topic1\", \"Topic1\", \"Topic1\", \"Topic1\", \"Topic1\", \"Topic1\", \"Topic1\", \"Topic1\", \"Topic1\", \"Topic1\", \"Topic1\", \"Topic1\", \"Topic1\", \"Topic1\", \"Topic1\", \"Topic1\", \"Topic1\", \"Topic1\", \"Topic1\", \"Topic1\", \"Topic1\", \"Topic1\", \"Topic1\", \"Topic1\", \"Topic1\", \"Topic1\", \"Topic1\", \"Topic1\", \"Topic1\", \"Topic1\", \"Topic1\", \"Topic1\", \"Topic1\", \"Topic1\", \"Topic1\", \"Topic1\", \"Topic1\", \"Topic1\", \"Topic1\", \"Topic1\", \"Topic1\", \"Topic1\", \"Topic1\", \"Topic1\", \"Topic1\", \"Topic1\", \"Topic1\", \"Topic1\", \"Topic1\", \"Topic1\", \"Topic1\", \"Topic1\", \"Topic1\", \"Topic1\", \"Topic1\", \"Topic1\", \"Topic1\", \"Topic1\", \"Topic1\", \"Topic1\", \"Topic1\", \"Topic1\", \"Topic1\", \"Topic1\", \"Topic1\", \"Topic1\", \"Topic1\", \"Topic1\", \"Topic1\", \"Topic1\", \"Topic1\", \"Topic1\", \"Topic1\", \"Topic1\", \"Topic1\", \"Topic1\", \"Topic2\", \"Topic2\", \"Topic2\", \"Topic2\", \"Topic2\", \"Topic2\", \"Topic2\", \"Topic2\", \"Topic2\", \"Topic2\", \"Topic2\", \"Topic2\", \"Topic2\", \"Topic2\", \"Topic2\", \"Topic2\", \"Topic2\", \"Topic2\", \"Topic2\", \"Topic2\", \"Topic2\", \"Topic2\", \"Topic2\", \"Topic2\", \"Topic2\", \"Topic2\", \"Topic2\", \"Topic2\", \"Topic2\", \"Topic2\", \"Topic2\", \"Topic2\", \"Topic2\", \"Topic2\", \"Topic2\", \"Topic2\", \"Topic2\", \"Topic2\", \"Topic2\", \"Topic2\", \"Topic2\", \"Topic2\", \"Topic2\", \"Topic2\", \"Topic2\", \"Topic2\", \"Topic2\", \"Topic2\", \"Topic2\", \"Topic2\", \"Topic2\", \"Topic2\", \"Topic2\", \"Topic2\", \"Topic2\", \"Topic2\", \"Topic2\", \"Topic2\", \"Topic2\", \"Topic2\", \"Topic2\", \"Topic2\", \"Topic2\", \"Topic2\", \"Topic2\", \"Topic2\", \"Topic2\", \"Topic2\", \"Topic2\", \"Topic2\", \"Topic2\", \"Topic2\", \"Topic2\", \"Topic2\", \"Topic2\", \"Topic3\", \"Topic3\", \"Topic3\", \"Topic3\", \"Topic3\", \"Topic3\", \"Topic3\", \"Topic3\", \"Topic3\", \"Topic3\", \"Topic3\", \"Topic3\", \"Topic3\", \"Topic3\", \"Topic3\", \"Topic3\", \"Topic3\", \"Topic3\", \"Topic3\", \"Topic3\", \"Topic3\", \"Topic3\", \"Topic3\", \"Topic3\", \"Topic3\", \"Topic3\", \"Topic3\", \"Topic3\", \"Topic3\", \"Topic3\", \"Topic3\", \"Topic3\", \"Topic3\", \"Topic3\", \"Topic3\", \"Topic3\", \"Topic3\", \"Topic3\", \"Topic3\", \"Topic3\", \"Topic3\", \"Topic3\", \"Topic3\", \"Topic3\", \"Topic3\", \"Topic3\", \"Topic3\", \"Topic3\", \"Topic3\", \"Topic3\", \"Topic3\", \"Topic3\", \"Topic3\", \"Topic3\", \"Topic3\", \"Topic3\", \"Topic3\", \"Topic3\", \"Topic3\", \"Topic3\", \"Topic3\", \"Topic3\", \"Topic3\", \"Topic3\", \"Topic3\", \"Topic3\", \"Topic3\", \"Topic3\", \"Topic3\", \"Topic3\", \"Topic3\", \"Topic3\", \"Topic3\", \"Topic3\", \"Topic3\", \"Topic3\", \"Topic3\", \"Topic3\", \"Topic3\", \"Topic3\", \"Topic3\"], \"logprob\": [30.0, 29.0, 28.0, 27.0, 26.0, 25.0, 24.0, 23.0, 22.0, 21.0, 20.0, 19.0, 18.0, 17.0, 16.0, 15.0, 14.0, 13.0, 12.0, 11.0, 10.0, 9.0, 8.0, 7.0, 6.0, 5.0, 4.0, 3.0, 2.0, 1.0, -8.1087, -6.8578, -8.1103, -8.1111, -8.1118, -7.5598, -8.1261, -8.1327, -7.9104, -7.914, -8.1403, -8.1403, -8.1432, -7.9233, -8.1508, -7.9347, -7.7534, -7.4685, -8.172, -8.4612, -8.4642, -8.1776, -8.4656, -8.4658, -8.466, -8.4661, -8.4662, -8.4664, -8.467, -8.4689, -7.0125, -7.0192, -7.4983, -6.7135, -4.8511, -7.1958, -7.5082, -7.4014, -7.6465, -5.0994, -7.1325, -4.0116, -4.3638, -3.7107, -5.5722, -5.25, -4.0781, -5.565, -4.6363, -6.6557, -5.8631, -4.7185, -4.5447, -4.4704, -5.8685, -4.8906, -5.5501, -5.2443, -4.8376, -5.9475, -4.4166, -4.363, -4.7211, -6.0284, -6.4866, -5.7326, -5.19, -4.9121, -5.5277, -4.6637, -5.8045, -5.1512, -5.6769, -5.2706, -4.8241, -5.3695, -5.3149, -5.3512, -5.4121, -5.3548, -5.4102, -5.5096, -7.5952, -7.6024, -7.8369, -7.8377, -7.4306, -7.8442, -7.8448, -7.8451, -7.8454, -7.8459, -7.8483, -7.8486, -7.8525, -7.8531, -7.8691, -8.1929, -8.1937, -8.1951, -8.1956, -8.1953, -8.1955, -8.1962, -8.1964, -8.1964, -8.1966, -8.1966, -8.1971, -8.1976, -8.1978, -8.1978, -6.3445, -7.7059, -7.1528, -6.8991, -4.2301, -5.3798, -7.7169, -4.5092, -6.0101, -4.7445, -7.7305, -5.4103, -7.2253, -5.9481, -7.2368, -4.4392, -4.2972, -4.2659, -5.2546, -4.9582, -6.139, -4.7646, -5.1286, -5.0396, -5.3491, -5.1984, -5.1711, -6.6162, -4.409, -4.1241, -4.3964, -5.492, -4.8923, -5.0971, -5.4166, -4.6542, -4.611, -5.4011, -5.2812, -5.0545, -5.1932, -5.3308, -5.0923, -5.2673, -5.4047, -7.4922, -7.504, -7.5073, -7.508, -7.5138, -7.7511, -7.7523, -7.7544, -7.7559, -7.7572, -7.7574, -7.7578, -7.7579, -7.7585, -7.7601, -7.763, -7.7711, -7.5453, -7.7817, -7.8023, -8.113, -8.1137, -8.1146, -8.1166, -8.1175, -8.1193, -7.8366, -8.1198, -8.1196, -8.121, -7.6036, -7.4337, -7.2677, -7.433, -6.6131, -7.6137, -7.8395, -7.4626, -6.7688, -6.6508, -7.0997, -4.9962, -6.1165, -6.2096, -4.8085, -7.0169, -4.1173, -4.8927, -6.0258, -4.7899, -6.0574, -4.242, -6.7587, -4.3769, -6.8809, -4.8801, -5.3369, -5.7111, -4.3109, -4.5832, -6.0725, -5.9392, -4.9619, -4.8538, -4.6128, -5.2907, -5.0626, -4.7856, -5.4434, -4.9587, -4.349, -5.3116, -4.6324, -4.9778, -5.333, -5.0577, -5.4555, -4.8227, -5.4181, -5.3288, -5.363], \"loglift\": [30.0, 29.0, 28.0, 27.0, 26.0, 25.0, 24.0, 23.0, 22.0, 21.0, 20.0, 19.0, 18.0, 17.0, 16.0, 15.0, 14.0, 13.0, 12.0, 11.0, 10.0, 9.0, 8.0, 7.0, 6.0, 5.0, 4.0, 3.0, 2.0, 1.0, 0.607, 0.6064, 0.6058, 0.605, 0.6046, 0.5977, 0.593, 0.5874, 0.5871, 0.5841, 0.5812, 0.5811, 0.5793, 0.5766, 0.5732, 0.5673, 0.566, 0.5637, 0.555, 0.5541, 0.5516, 0.5513, 0.5505, 0.5503, 0.5502, 0.5501, 0.55, 0.5498, 0.5494, 0.5478, 0.541, 0.5348, 0.5395, 0.5184, 0.4528, 0.524, 0.5301, 0.5228, 0.527, 0.4328, 0.5068, 0.3101, 0.313, 0.2407, 0.3592, 0.3257, 0.203, 0.3404, 0.2462, 0.438, 0.3264, 0.1745, 0.1302, 0.1119, 0.3026, 0.1637, 0.2486, 0.1732, 0.1069, 0.2847, 0.0117, -0.0007, 0.0276, 0.2696, 0.3695, 0.1941, 0.0535, -0.0205, 0.134, -0.1291, 0.2015, -0.0382, 0.1365, -0.1107, -0.3844, -0.0604, -0.1036, -0.0832, -0.2156, -0.5312, -0.36, -0.0721, 1.0742, 1.0645, 1.0519, 1.0505, 1.0454, 1.042, 1.0414, 1.0409, 1.0409, 1.0398, 1.0372, 1.0365, 1.0325, 1.0314, 1.0169, 0.9774, 0.9763, 0.9748, 0.9747, 0.9746, 0.9745, 0.9736, 0.9736, 0.9734, 0.9732, 0.9727, 0.9724, 0.9721, 0.9721, 0.9719, 0.9206, 0.9451, 0.9075, 0.8703, 0.5934, 0.6725, 0.9237, 0.541, 0.6906, 0.4668, 0.9091, 0.5591, 0.8281, 0.6111, 0.8175, 0.3095, 0.2373, 0.1738, 0.3595, 0.2853, 0.5578, 0.1799, 0.2694, 0.2284, 0.294, 0.2391, 0.2151, 0.6647, -0.0468, -0.1727, -0.1153, 0.2663, -0.0007, 0.0159, 0.1501, -0.2258, -0.2893, 0.0744, -0.1213, -0.3797, -0.3002, -0.1343, -0.51, -0.3848, -0.7279, 1.2003, 1.1869, 1.1836, 1.1826, 1.1762, 1.1602, 1.1587, 1.1563, 1.1548, 1.1532, 1.1528, 1.1525, 1.1522, 1.1518, 1.1499, 1.1467, 1.1369, 1.1351, 1.1256, 1.0998, 1.0759, 1.0756, 1.0746, 1.0728, 1.0714, 1.0694, 1.0694, 1.0689, 1.068, 1.0676, 1.0657, 1.0612, 1.0574, 1.0464, 1.0111, 1.0524, 1.0525, 1.0136, 0.9317, 0.9032, 0.9602, 0.6265, 0.7984, 0.7972, 0.5006, 0.9463, 0.3224, 0.4645, 0.7183, 0.4066, 0.6965, 0.1864, 0.8816, 0.2055, 0.901, 0.2799, 0.4064, 0.5204, 0.0513, 0.0917, 0.5672, 0.5043, 0.0924, 0.0378, -0.0782, 0.1848, 0.0504, -0.1088, 0.1997, -0.0656, -0.3976, 0.0747, -0.3513, -0.1542, 0.065, -0.1752, 0.1112, -0.501, -0.1502, -0.2786, -0.6144]}, \"token.table\": {\"Topic\": [1, 2, 1, 2, 3, 1, 2, 3, 1, 2, 1, 1, 2, 3, 1, 2, 3, 2, 1, 2, 3, 1, 2, 3, 1, 1, 3, 1, 2, 3, 2, 1, 1, 2, 3, 1, 1, 2, 1, 1, 2, 3, 1, 1, 2, 3, 1, 2, 3, 1, 2, 3, 1, 2, 3, 3, 1, 3, 1, 2, 3, 1, 2, 3, 1, 2, 3, 3, 1, 2, 3, 3, 3, 1, 2, 3, 1, 2, 3, 1, 2, 3, 1, 2, 3, 1, 2, 3, 1, 2, 3, 1, 3, 1, 2, 3, 1, 2, 3, 3, 1, 2, 3, 3, 1, 2, 3, 2, 3, 2, 3, 2, 2, 2, 1, 2, 1, 1, 1, 2, 3, 1, 1, 2, 3, 3, 2, 1, 2, 3, 2, 1, 3, 1, 2, 3, 1, 2, 3, 1, 3, 1, 3, 1, 2, 3, 1, 2, 3, 1, 1, 2, 3, 3, 1, 2, 3, 1, 2, 2, 1, 2, 3, 3, 3, 1, 2, 3, 1, 2, 3, 1, 1, 2, 3, 1, 2, 3, 1, 2, 1, 2, 3, 2, 1, 2, 3, 1, 2, 3, 2, 3, 1, 2, 3, 3, 2, 1, 2, 3, 1, 2, 3, 3, 3, 1, 3, 1, 2, 1, 3, 2, 1, 2, 3, 1, 2, 3, 2, 3, 1, 2, 3, 2, 1, 2, 3, 1, 1, 3, 1, 2, 1, 2, 3, 1, 2, 3, 1, 2, 3, 3, 1, 2, 3, 1, 2, 3, 1, 2, 3, 1, 2, 3, 2, 2, 2, 1, 2, 3, 1, 2, 3, 1, 2, 3, 3, 3, 1, 1, 2, 3, 1, 2, 3, 1, 2, 3, 1, 3, 1, 1, 2, 3, 1, 2, 3, 1, 2, 3, 1, 1, 2, 3, 1, 2, 3, 1, 1, 2, 3, 3, 2, 2, 3, 3, 1, 2, 3, 1, 2, 3, 1, 2, 3, 1, 2, 3, 1, 2, 3, 2, 1, 1, 2, 3, 3, 1, 2, 3, 1, 2, 1, 2, 3, 3, 1, 2, 3, 1, 2, 3, 1, 2, 3, 1, 2, 3, 1, 1, 1, 2, 3, 1, 2, 1, 2, 3, 2, 1, 2, 3, 1, 2, 3, 2, 1, 2, 3, 2, 1, 2, 3, 1, 1, 2, 3], \"Freq\": [0.8254843528959704, 0.8553140278730601, 0.3606155455146497, 0.5048617637205095, 0.14424621820585987, 0.28394341095522646, 0.5489572611801045, 0.17036604657313587, 0.2516469304979181, 0.7549407914937541, 0.7333359069136665, 0.217223581664979, 0.579262884439944, 0.217223581664979, 0.2134581452968292, 0.1067290726484146, 0.6403744358904876, 0.8554657416078164, 0.3419710417144125, 0.40303729916341474, 0.24426502979600895, 0.43200802402499333, 0.3542465797004945, 0.21600401201249667, 0.8149363264414388, 0.25922580991886107, 0.7776774297565833, 0.18528068948039175, 0.18528068948039175, 0.6484824131813712, 0.7758840704531107, 0.8152781524167687, 0.3233664373623664, 0.5173862997797863, 0.12934657494494659, 0.7336025833924122, 0.8201851185608062, 0.8556056034998136, 0.7334296855530954, 0.45137566897308373, 0.2885844440975453, 0.2663856407054265, 0.7331967852493507, 0.5732501972438917, 0.2511995246349638, 0.17712786993491036, 0.14100028451471824, 0.7050014225735912, 0.14100028451471824, 0.38732153035536515, 0.20783106506873253, 0.39676839694939847, 0.31395780276789487, 0.1345533440433835, 0.538213376173534, 0.6596862581905829, 0.2584141432365449, 0.7752424297096346, 0.3456998219048657, 0.5342633611257016, 0.1257090261472239, 0.5676027970141696, 0.30049559841926626, 0.13355359929745167, 0.5952116670076925, 0.23623186783962893, 0.1690679054146364, 0.7946889539094051, 0.39342553304930356, 0.3083605529305352, 0.29772743041568916, 0.6582704397866441, 0.794676045120972, 0.19677164452965176, 0.09838582226482588, 0.5903149335889553, 0.605056699038748, 0.12101133980774961, 0.2662249475770491, 0.8271271447003801, 0.13785452411673002, 0.13785452411673002, 0.3960478969552397, 0.3261570916101974, 0.2795632213801692, 0.7647792679188717, 0.08497547421320797, 0.08497547421320797, 0.6118754363667493, 0.20395847878891646, 0.18129642559014797, 0.18374844011456706, 0.7349937604582683, 0.42452017478017995, 0.44901172332519035, 0.13062159224005537, 0.30543713361484554, 0.19089820850927847, 0.496335342124124, 0.871588041607012, 0.27350271039894264, 0.09116757013298088, 0.729340561063847, 0.6598217552338789, 0.6372263597722818, 0.21129084560870395, 0.1509220325776457, 0.8550303612690138, 0.7944118680818233, 0.7778055195974976, 0.7939041660770169, 0.8554174942934603, 0.8551912500134519, 0.6430023218689487, 0.8193789918837973, 0.6457022965129986, 0.8147053278141714, 0.7339023030520814, 0.6709990812369881, 0.20129972437109644, 0.13419981624739763, 0.8239177124555238, 0.5582327848568726, 0.20785263265947385, 0.23754586589654153, 0.6600240790988388, 0.855362035878859, 0.537943397319843, 0.30739622703991026, 0.15369811351995513, 0.6436083170474548, 0.21371773757809612, 0.6411532127342884, 0.7769437571027209, 0.15538875142054417, 0.6600575966895914, 0.5223044902536331, 0.16974895933243078, 0.3090301567333996, 0.7328074838656516, 0.8721213373055494, 0.28188156523164587, 0.7047039130791147, 0.5518476810720933, 0.26087344923408046, 0.19063828982490494, 0.2800522532532111, 0.7001306331330277, 0.14002612662660555, 0.7334544777971583, 0.21775225489965902, 0.21775225489965902, 0.6532567646989771, 0.8705948469626611, 0.4411272157610212, 0.14404153984033347, 0.4141194270409587, 0.25191025939801126, 0.7557307781940338, 0.8551932942622975, 0.5299832566032711, 0.1909849573345121, 0.27692818813504255, 0.6569655822484631, 0.659342319205323, 0.4299366974097092, 0.3582805811747577, 0.2047317606712901, 0.41078985674776114, 0.35684775434654, 0.23236597957449115, 0.8753743169134671, 0.5512260549215138, 0.1744386249751626, 0.27212425496125364, 0.6766659171936901, 0.12687485947381688, 0.21145809912302813, 0.8276111911918043, 0.13793519853196737, 0.5366589810750778, 0.3279582662125476, 0.14907193918752162, 0.6453775525699478, 0.24586063419563423, 0.1966885073565074, 0.5408933952303953, 0.599433263091303, 0.1939342910001274, 0.2115646810910481, 0.6432730338941003, 0.660416050262234, 0.36405938944229743, 0.36405938944229743, 0.26566495986329813, 0.8717483404805737, 0.8553290940919277, 0.1909652492985082, 0.70020591409453, 0.12731016619900545, 0.5189465393218274, 0.33762786895636965, 0.14380446270363892, 0.871541371095606, 0.6595681578469731, 0.8772497420873349, 0.871766504569758, 0.7334719112126856, 0.6439495141761732, 0.2621273911971668, 0.7863821735915004, 0.8554619936613677, 0.4890246667663536, 0.37098422996068203, 0.13490335634933892, 0.854573781806068, 0.07768852561873346, 0.07768852561873346, 0.8556587663856721, 0.6543927876566212, 0.25591336555726923, 0.12795668277863462, 0.6397834138931731, 0.855174205595766, 0.2799215990201025, 0.3079137589221127, 0.4198823985301537, 0.7334284517788076, 0.21439685045843182, 0.6431905513752955, 0.9135473579788993, 0.18270947159577985, 0.73443635223655, 0.20600044026147132, 0.06269578616653475, 0.45662989804844867, 0.2787221455620401, 0.26093137031339925, 0.5783316165813367, 0.1265100411271674, 0.30723867130883514, 0.8720909933195035, 0.7645010854271135, 0.08494456504745705, 0.1698891300949141, 0.8005266857492876, 0.12315795165373655, 0.12315795165373655, 0.8024295373700676, 0.2006073843425169, 0.6577721276273036, 0.7383540083689276, 0.12305900139482127, 0.12305900139482127, 0.6441520388637576, 0.6440543000801405, 0.6433939478508939, 0.37927068057326935, 0.350096012836864, 0.2722968988731164, 0.2108176599208057, 0.6324529797624171, 0.10540882996040285, 0.33106384932406624, 0.48788356742493966, 0.19166854434551203, 0.8714704249340117, 0.8720128335790015, 0.8193501416464315, 0.37807055967105885, 0.2493656882936771, 0.37807055967105885, 0.4187829835767582, 0.24816769397141225, 0.3334753387740852, 0.27246993043701445, 0.27246993043701445, 0.4427636369601485, 0.3238996069233308, 0.6477992138466616, 0.8150173437623441, 0.29565105961785715, 0.2340570888641369, 0.4681141777282738, 0.7403739614661391, 0.09254674518326739, 0.09254674518326739, 0.34028870962190455, 0.15123942649862424, 0.5293379927451849, 0.8737653823536676, 0.4738969607419052, 0.2238883279095615, 0.30224924267790804, 0.7201313652920128, 0.1912848939056909, 0.0900164206615016, 0.8732834783788054, 0.6513927795188721, 0.10856546325314535, 0.23884401915691977, 0.6602284421667778, 0.6440120777077606, 0.6439186671368022, 0.7959668264658774, 0.6597778457380967, 0.47804501057871995, 0.38552016982154835, 0.13364699220480342, 0.6537628408678673, 0.21247292328205689, 0.13075256817357347, 0.6362399913445131, 0.133945261335687, 0.22483668867061743, 0.6464273650437937, 0.1057790233708026, 0.25857094601751746, 0.31432992279031235, 0.37719590734837477, 0.30175672587869984, 0.8552736179123083, 0.8182455628644686, 0.254959446545383, 0.1699729643635887, 0.5949053752725604, 0.6596908292203066, 0.6395198872700262, 0.23449062533234294, 0.1492213070296728, 0.2136657864516615, 0.854663145806646, 0.6022787053082368, 0.24972531683512258, 0.14689724519713093, 0.659774560191983, 0.4655675738708555, 0.36681081577703767, 0.169297299589402, 0.40759984289682044, 0.15851105001543017, 0.43024427861331044, 0.789442438664336, 0.1578884877328672, 0.1578884877328672, 0.69717360521615, 0.10725747772556155, 0.16088621658834232, 0.817391118945403, 0.821447248026299, 0.5141900582482732, 0.11117622881043747, 0.37521977223522646, 0.25452862122330894, 0.7635858636699268, 0.32659504018069324, 0.48641814494996866, 0.18761842733784506, 0.8548017319599732, 0.4680169103175286, 0.26893509025708734, 0.26544242674725504, 0.8225404219924237, 0.13709007033207063, 0.13709007033207063, 0.8551186016169724, 0.317008563904489, 0.33587812127975625, 0.34719985570491657, 0.6437495562231559, 0.2769992920993029, 0.5096786974627173, 0.21605944783745626, 0.7334715105819102, 0.2803090723076537, 0.7007726807691341, 0.14015453615382684], \"Term\": [\"90s\", \"AOR\", \"CCM\", \"CCM\", \"CCM\", \"EDM\", \"EDM\", \"EDM\", \"EDMFloor\", \"EDMFloor\", \"Frenchpop\", \"HipHop\", \"HipHop\", \"HipHop\", \"JAYJE\", \"JAYJE\", \"JAYJE\", \"MartinGarrix\", \"OST\", \"OST\", \"OST\", \"Pop\", \"Pop\", \"Pop\", \"Queen\", \"TWICE\", \"TWICE\", \"Winter\", \"Winter\", \"Winter\", \"World\", \"before1970\", \"electronica\", \"electronica\", \"electronica\", \"funk\", \"newage\", \"round4\", \"\\uac00\\uc2a4\\ud3a0\", \"\\uac00\\uc744\", \"\\uac00\\uc744\", \"\\uac00\\uc744\", \"\\uac00\\uc744\\ub3d9\\ud654\", \"\\uac10\\uc131\", \"\\uac10\\uc131\", \"\\uac10\\uc131\", \"\\uac15\\ub82c\\ud55c\", \"\\uac15\\ub82c\\ud55c\", \"\\uac15\\ub82c\\ud55c\", \"\\uaca8\\uc6b8\", \"\\uaca8\\uc6b8\", \"\\uaca8\\uc6b8\", \"\\uacf5\\ubd80\", \"\\uacf5\\ubd80\", \"\\uacf5\\ubd80\", \"\\uad11\\ub780\\uc758\", \"\\uad6d\\ub0b4\\ucc28\\ud2b8\", \"\\uad6d\\ub0b4\\ucc28\\ud2b8\", \"\\uad6d\\ub0b4\\ud799\\ud569\", \"\\uad6d\\ub0b4\\ud799\\ud569\", \"\\uad6d\\ub0b4\\ud799\\ud569\", \"\\uadf8\\ub8e8\\ube0c\", \"\\uadf8\\ub8e8\\ube0c\", \"\\uadf8\\ub8e8\\ube0c\", \"\\uae30\\ubd84\\uc804\\ud658\", \"\\uae30\\ubd84\\uc804\\ud658\", \"\\uae30\\ubd84\\uc804\\ud658\", \"\\uae4a\\uc740\\ubc24\\uc5d0\", \"\\uae4c\\ud398\", \"\\uae4c\\ud398\", \"\\uae4c\\ud398\", \"\\uafc0\\ubc8c\\uacfc\\ucc9c\\ub465\", \"\\ub048\\uc801\\ub048\\uc801\\ud55c\", \"\\ub098\\ub978\\ud55c\", \"\\ub098\\ub978\\ud55c\", \"\\ub098\\ub978\\ud55c\", \"\\ub178\\ub3d9\\uc694\", \"\\ub178\\ub3d9\\uc694\", \"\\ub178\\ub3d9\\uc694\", \"\\ub178\\uc744\", \"\\ub178\\uc744\", \"\\ub178\\uc744\", \"\\ub274\\uc5d0\\uc774\\uc9c0\", \"\\ub274\\uc5d0\\uc774\\uc9c0\", \"\\ub274\\uc5d0\\uc774\\uc9c0\", \"\\ub290\\ub08c\", \"\\ub290\\ub08c\", \"\\ub290\\ub08c\", \"\\ub290\\ub08c\\uc788\\ub294\", \"\\ub290\\ub08c\\uc788\\ub294\", \"\\ub290\\ub08c\\uc788\\ub294\", \"\\ub2ec\\ucf64\\ud55c\\uac10\\uc131\", \"\\ub2ec\\ucf64\\ud55c\\uac10\\uc131\", \"\\ub304\\uc2a4\", \"\\ub304\\uc2a4\", \"\\ub304\\uc2a4\", \"\\ub3c5\\uc11c\", \"\\ub3c5\\uc11c\", \"\\ub3c5\\uc11c\", \"\\ub3d9\\uc591\\ud48d\", \"\\ub3d9\\uc694\", \"\\ub3d9\\uc694\", \"\\ub3d9\\uc694\", \"\\ub450\\ub1cc\", \"\\ub4dc\\ub77c\\uc774\\ube0c\", \"\\ub4dc\\ub77c\\uc774\\ube0c\", \"\\ub4dc\\ub77c\\uc774\\ube0c\", \"\\ub4dc\\ub7fc\\uc564\\ubca0\\uc774\\uc2a4\", \"\\ub728\\uac70\\uc6b4\\ubc24\", \"\\ub77c\\ud2f4\", \"\\ub808\\uc5b4\\ud55c\", \"\\ub864\\ub85c\\uc8fc\\uc544\\uc774\", \"\\ub9ac\\ub4ec\\uc564\\ube14\\ub8e8\\uc2a4\", \"\\ub9b4\\ub799\\uc2a4\\uc694\\uac00\", \"\\ub9c8\\uc774\\ub178\\uc2a4\", \"\\ub9c8\\ud2f4\\uac8c\\ub9ad\\uc2a4\", \"\\ub9e4\\ub2c8\\uc544\", \"\\ub9e4\\ub2c8\\uc545\", \"\\ub9e4\\uc7a5\", \"\\ub9e4\\uc7a5\", \"\\ub9e4\\uc7a5\", \"\\ub9e4\\uc7a5\\uac10\\uc131\", \"\\ub9e4\\uc7a5\\uc74c\\uc545\", \"\\ub9e4\\uc7a5\\uc74c\\uc545\", \"\\ub9e4\\uc7a5\\uc74c\\uc545\", \"\\uba5c\\ub85c\\ub515\\uc2a4\\ud53c\\ub4dc\\uba54\\ud0c8\", \"\\uba74\\ub3c4\", \"\\uba85\\uace1\", \"\\uba85\\uace1\", \"\\uba85\\uace1\", \"\\uba85\\uc0c1\\uc74c\\uc545\", \"\\ubbf8\\uc220\\uad00\", \"\\ubbf8\\uc220\\uad00\", \"\\ubc14\\uc774\\uc62c\\ub9b0\", \"\\ubc14\\uc774\\uc62c\\ub9b0\", \"\\ubc1c\\ub2ec\", \"\\ubc1c\\ub77c\\ub4dc\", \"\\ubc1c\\ub77c\\ub4dc\", \"\\ubc1c\\ub77c\\ub4dc\", \"\\ubc30\\uace0\\ud30c\", \"\\ubd81\\uc0c1\\ud558\\ub294\\uc7a5\\ub9c8\\uc804\\uc120\", \"\\ubd81\\uce74\\ud398\", \"\\ubd81\\uce74\\ud398\", \"\\ubd84\\uc704\\uae30\", \"\\ubd84\\uc704\\uae30\", \"\\ubd84\\uc704\\uae30\", \"\\ubd90\\ubc41\", \"\\ubd90\\ubc41\", \"\\ubd90\\ubc41\", \"\\ube0c\\ub9ac\\ud2f0\\uc26c\\ub77d\", \"\\ube14\\ub799\\ubba4\\uc9c1\", \"\\ube14\\ub799\\ubba4\\uc9c1\", \"\\ube14\\ub799\\ubba4\\uc9c1\", \"\\ube14\\ub7ec\", \"\\ube44\\uc624\\ub294\\ub0a0\", \"\\ube44\\uc624\\ub294\\ub0a0\", \"\\ube44\\uc624\\ub294\\ub0a0\", \"\\ube4c\\ub85c\\uc6b0\", \"\\ube4c\\ub85c\\uc6b0\", \"\\ube60\\ub978\\ube44\\ud2b8\", \"\\uc0ac\\ub791\", \"\\uc0ac\\ub791\", \"\\uc0ac\\ub791\", \"\\uc0ac\\uc0c9\\uc744\\uc704\\ud55c\\ud074\\ub798\\uc2dd\", \"\\uc0b0\\ubaa8\", \"\\uc0b0\\ucc45\", \"\\uc0b0\\ucc45\", \"\\uc0b0\\ucc45\", \"\\uc0c8\\ubcbd\", \"\\uc0c8\\ubcbd\", \"\\uc0c8\\ubcbd\", \"\\uc11c\\uc9c0\\uc74c\", \"\\uc124\\ub818\", \"\\uc124\\ub818\", \"\\uc124\\ub818\", \"\\uc138\\ub828\\ub41c\", \"\\uc138\\ub828\\ub41c\", \"\\uc138\\ub828\\ub41c\", \"\\uc18c\\ub140\\uc2dc\\ub300\", \"\\uc18c\\ub140\\uc2dc\\ub300\", \"\\uc18c\\uc6b8\", \"\\uc18c\\uc6b8\", \"\\uc18c\\uc6b8\", \"\\uc18c\\ud504\\ud2b8\\ub85d\", \"\\uc219\\uba74\", \"\\uc219\\uba74\", \"\\uc219\\uba74\", \"\\uc2a4\\ud2b8\\ub808\\uc2a4\", \"\\uc2a4\\ud2b8\\ub808\\uc2a4\", \"\\uc2a4\\ud2b8\\ub808\\uc2a4\", \"\\uc2a4\\ud2b8\\ub808\\uce6d\", \"\\uc2a4\\ud53c\\ub4dc\\uba54\\ud0c8\", \"\\uc2ac\\ud514\", \"\\uc2ac\\ud514\", \"\\uc2ac\\ud514\", \"\\uc2dc\\uc791\\uc740\\uc5b8\\uc81c\\ub098\\ube44\", \"\\uc2dc\\ud0a4\", \"\\uc2e0\\uace1\", \"\\uc2e0\\uace1\", \"\\uc2e0\\uace1\", \"\\uc2e0\\ub098\\ub294\", \"\\uc2e0\\ub098\\ub294\", \"\\uc2e0\\ub098\\ub294\", \"\\uc3df\\uc544\\uc9c0\\ub294\\ube44\\uac00\\uadf8\\uce58\\uba74\\ub5a0\\ub098\\uc790\", \"\\uc544\\uc774\", \"\\uc544\\uc774\\ub3cc\\uba54\\uc774\\ucee4\", \"\\uc544\\uc774\\ub4e4\", \"\\uc544\\uc774\\uc2ac\\ub9ac\\ube0c\\ub77c\\ub354\\uc2a4\", \"\\uc544\\uce68\\uc694\\uac00\", \"\\uc548\\uc815\", \"\\uc548\\uc815\", \"\\uc54c\\ub9ac\\uc0e4\\ud0a4\\uc2a4\", \"\\uc54c\\uc564\\ube44\", \"\\uc54c\\uc564\\ube44\", \"\\uc54c\\uc564\\ube44\", \"\\uc560\\ub2c8\\uba54\\uc774\\uc158\", \"\\uc560\\ub2c8\\uba54\\uc774\\uc158\", \"\\uc560\\ub2c8\\uba54\\uc774\\uc158\", \"\\uc573\\ubaa8\\uc2a4\\ud53c\\uc5b4\", \"\\uc5b4\\ub9b0\\uc774\", \"\\uc5b4\\ub9b0\\uc774\\uc9d1\", \"\\uc5b4\\ub9b0\\uc774\\uc9d1\", \"\\uc5b4\\ub9b0\\uc774\\uc9d1\", \"\\uc5b4\\uc154\", \"\\uc5b4\\ucfe0\\uc2a4\\ud2f1\", \"\\uc5b4\\ucfe0\\uc2a4\\ud2f1\", \"\\uc5b4\\ucfe0\\uc2a4\\ud2f1\", \"\\uc5b8\\ub354\\ucee4\\ubc84\", \"\\uc5c4\\ub9c8\", \"\\uc5c4\\ub9c8\", \"\\uc5d0\\ud504\\uc5d1\\uc2a4\", \"\\uc5d0\\ud504\\uc5d1\\uc2a4\", \"\\uc5ec\\ub984\", \"\\uc5ec\\ub984\", \"\\uc5ec\\ub984\", \"\\uc5ec\\ud589\", \"\\uc5ec\\ud589\", \"\\uc5ec\\ud589\", \"\\uc5f0\\uc8fc\\uace1\", \"\\uc5f0\\uc8fc\\uace1\", \"\\uc5f0\\uc8fc\\uace1\", \"\\uc601\\uc5b4\\uacf5\\ubd80\", \"\\uc601\\ud654OST\", \"\\uc601\\ud654OST\", \"\\uc601\\ud654OST\", \"\\uc601\\ud654\\uc74c\\uc545\", \"\\uc601\\ud654\\uc74c\\uc545\", \"\\uc601\\ud654\\uc74c\\uc545\", \"\\uc608\\ubc30\", \"\\uc608\\ubc30\", \"\\uc628\\ub2e4\\ub9ac\\ucfe0\", \"\\uc640\\uc778\", \"\\uc640\\uc778\", \"\\uc640\\uc778\", \"\\uc694\\uac00ASMR\", \"\\uc694\\uac00\\uc6d0\", \"\\uc694\\uac00\\uc74c\\uc545\", \"\\uc6b4\\ub3d9\", \"\\uc6b4\\ub3d9\", \"\\uc6b4\\ub3d9\", \"\\uc6d4\\ub4dc\\ubba4\\uc9c1\", \"\\uc6d4\\ub4dc\\ubba4\\uc9c1\", \"\\uc6d4\\ub4dc\\ubba4\\uc9c1\", \"\\uc704\\ub85c\", \"\\uc704\\ub85c\", \"\\uc704\\ub85c\", \"\\uc720\\ub7fd\", \"\\uc774\\uad6d\\uc801\\uc778\", \"\\uc774\\ub8e8\\ud380\\ud2b8\", \"\\uc774\\ubcc4\", \"\\uc774\\ubcc4\", \"\\uc774\\ubcc4\", \"\\uc778\\ub514\", \"\\uc778\\ub514\", \"\\uc778\\ub514\", \"\\uc778\\ub514\\uc74c\\uc545\", \"\\uc778\\ub514\\uc74c\\uc545\", \"\\uc778\\ub514\\uc74c\\uc545\", \"\\uc778\\uc2f8\", \"\\uc778\\uc2f8\", \"\\uc77c\\ub808\\ud2b8\\ub85c\\ub2c9\\ud31d\", \"\\uc77c\\ub809\", \"\\uc77c\\ub809\", \"\\uc77c\\ub809\", \"\\uc77c\\ubcf8\", \"\\uc77c\\ubcf8\", \"\\uc77c\\ubcf8\", \"\\uc790\\uc7a5\\uac00\", \"\\uc790\\uc7a5\\uac00\", \"\\uc790\\uc7a5\\uac00\", \"\\uc791\\uac00\", \"\\uc794\\uc794\\ud55c\", \"\\uc794\\uc794\\ud55c\", \"\\uc794\\uc794\\ud55c\", \"\\uc7ac\\uc988\", \"\\uc7ac\\uc988\", \"\\uc7ac\\uc988\", \"\\uc7bc\\ud329\\ud1a0\\ub9ac\", \"\\uc800\\ub141\", \"\\uc800\\ub141\", \"\\uc800\\ub141\", \"\\uc815\\uc11c\", \"\\uc815\\uc2e0\\uc218\\uc591\\uc694\\uac00\\uc74c\\uc545\", \"\\uc9c0\\uc5ed\\ubcc4\", \"\\ucc45\\uc77d\\uc744\\ub54c\", \"\\uccad\\uac01\", \"\\ucd94\\uc5b5\", \"\\ucd94\\uc5b5\", \"\\ucd94\\uc5b5\", \"\\ucde8\\ud5a5\\uc800\\uaca9\", \"\\ucde8\\ud5a5\\uc800\\uaca9\", \"\\ucde8\\ud5a5\\uc800\\uaca9\", \"\\uce74\\ud398\", \"\\uce74\\ud398\", \"\\uce74\\ud398\", \"\\ud074\\ub798\\uc2dd\", \"\\ud074\\ub798\\uc2dd\", \"\\ud074\\ub798\\uc2dd\", \"\\ud074\\ub7fd\", \"\\ud074\\ub7fd\", \"\\ud074\\ub7fd\", \"\\ud0a4\\ub4dc\\ubc00\\ub9ac\", \"\\ud0a4\\ube44\", \"\\ud0dc\\uad50\", \"\\ud0dc\\uad50\", \"\\ud0dc\\uad50\", \"\\ud0dc\\uc544\", \"\\ud1f4\\uadfc\\uae38\", \"\\ud1f4\\uadfc\\uae38\", \"\\ud1f4\\uadfc\\uae38\", \"\\ud2b8\\ub79c\\uc2a4\", \"\\ud2b8\\ub79c\\uc2a4\", \"\\ud2b8\\ub80c\\ub514\", \"\\ud2b8\\ub80c\\ub514\", \"\\ud2b8\\ub80c\\ub514\", \"\\ud30c\\uc6cc\\uba54\\ud0c8\", \"\\ud31d\\uc1a1\", \"\\ud31d\\uc1a1\", \"\\ud31d\\uc1a1\", \"\\ud3b8\\uc548\\ud55c\", \"\\ud3b8\\uc548\\ud55c\", \"\\ud3b8\\uc548\\ud55c\", \"\\ud3b8\\uc9d1\\uc20d\", \"\\ud3b8\\uc9d1\\uc20d\", \"\\ud3b8\\uc9d1\\uc20d\", \"\\ud3ec\\uadfc\\ud55c\", \"\\ud3ec\\uadfc\\ud55c\", \"\\ud3ec\\uadfc\\ud55c\", \"\\ud504\\ub9ac\\uc998\\uc2a4\\ud1a4\", \"\\ud504\\ub9ac\\ud30c\\ub77c\", \"\\ud53c\\uc544\\ub178\", \"\\ud53c\\uc544\\ub178\", \"\\ud53c\\uc544\\ub178\", \"\\ud574\\ub9ac\\uc2a4\\ud0c0\\uc77c\\uc2a4\", \"\\ud574\\ub9ac\\uc2a4\\ud0c0\\uc77c\\uc2a4\", \"\\ud68c\\uc0c1\", \"\\ud68c\\uc0c1\", \"\\ud68c\\uc0c1\", \"\\ud6f5\\ud06c\", \"\\ud734\\uc2dd\", \"\\ud734\\uc2dd\", \"\\ud734\\uc2dd\", \"\\ud788\\ub4e0\\ud2b8\\ub799\", \"\\ud788\\ub4e0\\ud2b8\\ub799\", \"\\ud788\\ub4e0\\ud2b8\\ub799\", \"\\ud788\\ud31d\", \"\\ud790\\ub9c1\", \"\\ud790\\ub9c1\", \"\\ud790\\ub9c1\", \"\\ud790\\ub9c1\\ud14c\\ub77c\\ud53c\", \"\\ud799\\ud569\", \"\\ud799\\ud569\", \"\\ud799\\ud569\", \"\\ud799\\ud569DJ\", \"\\ud799\\ud569\\uc5d8\\uc774\", \"\\ud799\\ud569\\uc5d8\\uc774\", \"\\ud799\\ud569\\uc5d8\\uc774\"]}, \"R\": 30, \"lambda.step\": 0.01, \"plot.opts\": {\"xlab\": \"PC1\", \"ylab\": \"PC2\"}, \"topic.order\": [3, 2, 1]};\n",
       "\n",
       "function LDAvis_load_lib(url, callback){\n",
       "  var s = document.createElement('script');\n",
       "  s.src = url;\n",
       "  s.async = true;\n",
       "  s.onreadystatechange = s.onload = callback;\n",
       "  s.onerror = function(){console.warn(\"failed to load library \" + url);};\n",
       "  document.getElementsByTagName(\"head\")[0].appendChild(s);\n",
       "}\n",
       "\n",
       "if(typeof(LDAvis) !== \"undefined\"){\n",
       "   // already loaded: just create the visualization\n",
       "   !function(LDAvis){\n",
       "       new LDAvis(\"#\" + \"ldavis_el122881401948971858084226243192\", ldavis_el122881401948971858084226243192_data);\n",
       "   }(LDAvis);\n",
       "}else if(typeof define === \"function\" && define.amd){\n",
       "   // require.js is available: use it to load d3/LDAvis\n",
       "   require.config({paths: {d3: \"https://d3js.org/d3.v5\"}});\n",
       "   require([\"d3\"], function(d3){\n",
       "      window.d3 = d3;\n",
       "      LDAvis_load_lib(\"https://cdn.jsdelivr.net/gh/bmabey/pyLDAvis@3.3.1/pyLDAvis/js/ldavis.v3.0.0.js\", function(){\n",
       "        new LDAvis(\"#\" + \"ldavis_el122881401948971858084226243192\", ldavis_el122881401948971858084226243192_data);\n",
       "      });\n",
       "    });\n",
       "}else{\n",
       "    // require.js not available: dynamically load d3 & LDAvis\n",
       "    LDAvis_load_lib(\"https://d3js.org/d3.v5.js\", function(){\n",
       "         LDAvis_load_lib(\"https://cdn.jsdelivr.net/gh/bmabey/pyLDAvis@3.3.1/pyLDAvis/js/ldavis.v3.0.0.js\", function(){\n",
       "                 new LDAvis(\"#\" + \"ldavis_el122881401948971858084226243192\", ldavis_el122881401948971858084226243192_data);\n",
       "            })\n",
       "         });\n",
       "}\n",
       "</script>"
      ],
      "text/plain": [
       "<IPython.core.display.HTML object>"
      ]
     },
     "execution_count": 133,
     "metadata": {},
     "output_type": "execute_result"
    }
   ],
   "source": [
    "pyLDAvis.display(prepared_data)"
   ]
  },
  {
   "cell_type": "code",
   "execution_count": 134,
   "id": "eac7629c",
   "metadata": {},
   "outputs": [],
   "source": [
    "pyLDAvis.save_html(prepared_data, '멜론 태그 LDA.html')"
   ]
  },
  {
   "cell_type": "code",
   "execution_count": null,
   "id": "bc81448a",
   "metadata": {},
   "outputs": [],
   "source": []
  }
 ],
 "metadata": {
  "kernelspec": {
   "display_name": "Python 3 (ipykernel)",
   "language": "python",
   "name": "python3"
  },
  "language_info": {
   "codemirror_mode": {
    "name": "ipython",
    "version": 3
   },
   "file_extension": ".py",
   "mimetype": "text/x-python",
   "name": "python",
   "nbconvert_exporter": "python",
   "pygments_lexer": "ipython3",
   "version": "3.9.4"
  }
 },
 "nbformat": 4,
 "nbformat_minor": 5
}
