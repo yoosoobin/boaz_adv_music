{
 "cells": [
  {
   "cell_type": "code",
   "execution_count": 35,
   "id": "eecbd907",
   "metadata": {},
   "outputs": [
    {
     "data": {
      "text/html": [
       "<div>\n",
       "<style scoped>\n",
       "    .dataframe tbody tr th:only-of-type {\n",
       "        vertical-align: middle;\n",
       "    }\n",
       "\n",
       "    .dataframe tbody tr th {\n",
       "        vertical-align: top;\n",
       "    }\n",
       "\n",
       "    .dataframe thead th {\n",
       "        text-align: right;\n",
       "    }\n",
       "</style>\n",
       "<table border=\"1\" class=\"dataframe\">\n",
       "  <thead>\n",
       "    <tr style=\"text-align: right;\">\n",
       "      <th></th>\n",
       "      <th>가수</th>\n",
       "      <th>노래</th>\n",
       "    </tr>\n",
       "  </thead>\n",
       "  <tbody>\n",
       "    <tr>\n",
       "      <th>0</th>\n",
       "      <td>선우정아</td>\n",
       "      <td>도망가자</td>\n",
       "    </tr>\n",
       "    <tr>\n",
       "      <th>1</th>\n",
       "      <td>해쉬스완</td>\n",
       "      <td>요즘것들</td>\n",
       "    </tr>\n",
       "    <tr>\n",
       "      <th>2</th>\n",
       "      <td>에픽하이</td>\n",
       "      <td>HERE COME THE REGRETS</td>\n",
       "    </tr>\n",
       "    <tr>\n",
       "      <th>3</th>\n",
       "      <td>에픽하이</td>\n",
       "      <td>Wish you were</td>\n",
       "    </tr>\n",
       "    <tr>\n",
       "      <th>4</th>\n",
       "      <td>타블로</td>\n",
       "      <td>HOOD</td>\n",
       "    </tr>\n",
       "    <tr>\n",
       "      <th>5</th>\n",
       "      <td>maroon5</td>\n",
       "      <td>lost</td>\n",
       "    </tr>\n",
       "    <tr>\n",
       "      <th>6</th>\n",
       "      <td>에픽하이</td>\n",
       "      <td>트로트</td>\n",
       "    </tr>\n",
       "    <tr>\n",
       "      <th>7</th>\n",
       "      <td>코드쿤스트</td>\n",
       "      <td>꽃</td>\n",
       "    </tr>\n",
       "    <tr>\n",
       "      <th>8</th>\n",
       "      <td>이적</td>\n",
       "      <td>하늘을 달리다</td>\n",
       "    </tr>\n",
       "  </tbody>\n",
       "</table>\n",
       "</div>"
      ],
      "text/plain": [
       "        가수                     노래\n",
       "0     선우정아                   도망가자\n",
       "1     해쉬스완                   요즘것들\n",
       "2     에픽하이  HERE COME THE REGRETS\n",
       "3     에픽하이          Wish you were\n",
       "4      타블로                   HOOD\n",
       "5  maroon5                   lost\n",
       "6     에픽하이                    트로트\n",
       "7    코드쿤스트                      꽃\n",
       "8       이적                하늘을 달리다"
      ]
     },
     "execution_count": 35,
     "metadata": {},
     "output_type": "execute_result"
    }
   ],
   "source": [
    "import pandas as pd\n",
    "\n",
    "data = pd.read_excel('노래 리스트.xlsx', sheet_name = 'Sheet1')\n",
    "data"
   ]
  },
  {
   "cell_type": "code",
   "execution_count": 36,
   "id": "fc79c407",
   "metadata": {},
   "outputs": [],
   "source": [
    "import selenium\n",
    "from selenium import webdriver as wd\n",
    "import time\n",
    "import pandas as pd\n",
    "from bs4 import BeautifulSoup\n",
    "import datetime\n",
    "import re\n",
    "\n",
    "# 드라이버 경로 지정\n",
    "driver = wd.Chrome(executable_path=r'...')\n",
    "time.sleep(2)\n",
    "\n",
    "# 윈도우 크기 조절\n",
    "driver.maximize_window()"
   ]
  },
  {
   "cell_type": "code",
   "execution_count": 37,
   "id": "c8f20bf0",
   "metadata": {},
   "outputs": [],
   "source": [
    "# Bugs 홈페이지로 가기\n",
    "driver.get('https://music.bugs.co.kr/') \n",
    "\n",
    "# 검색창 클릭\n",
    "driver.find_element_by_xpath('//*[@id=\"headerSearchInput\"]').click()"
   ]
  },
  {
   "cell_type": "code",
   "execution_count": 38,
   "id": "26bf4182",
   "metadata": {},
   "outputs": [
    {
     "name": "stderr",
     "output_type": "stream",
     "text": [
      "100%|█████████████████████████████████████████████| 9/9 [00:41<00:00,  4.64s/it]\n"
     ]
    }
   ],
   "source": [
    "from tqdm import tqdm\n",
    "import ssl\n",
    "import urllib.request\n",
    "from urllib.request import urlopen\n",
    "\n",
    "lyrics_list = []\n",
    "\n",
    "for i in tqdm(range(len(data))):\n",
    "    # 가수와 노래 값 받기\n",
    "    singer = data['가수'][i]\n",
    "    song_name = data['노래'][i]\n",
    "    \n",
    "    # 검색어 창에 보내기\n",
    "    all_key = singer + ' ' + song_name\n",
    "    driver.find_element_by_xpath('//*[@id=\"headerSearchInput\"]').send_keys(all_key)\n",
    "    \n",
    "    driver.find_element_by_xpath('//*[@id=\"hederSearchFormButton\"]').click()\n",
    "    # 노래 있으면 들어가기\n",
    "    try:\n",
    "        driver.find_element_by_xpath('//*[@id=\"DEFAULT0\"]/table/tbody/tr[1]/td[3]/a').click()\n",
    "        \n",
    "        html = driver.page_source\n",
    "        soup = BeautifulSoup(html, 'lxml')\n",
    "        \n",
    "        # 가사 가져오기\n",
    "        lyrics = soup.find('div', attrs={'class':'lyricsContainer'}).text\n",
    "        \n",
    "        # 간단한 전처리\n",
    "        \n",
    "        # '~님이 가져오신 가사입니다~~~' 없애기'\n",
    "        idx = lyrics.split(' ').index('님이')\n",
    "        end_word = lyrics.split(' ')[idx-1]\n",
    "        end_word_idx = lyrics.find(end_word)\n",
    "\n",
    "        speical_end = end_word.find('\\n')\n",
    "        lyrics = lyrics[:end_word_idx+speical_end]\n",
    "        \n",
    "        # 온점 바꾸기\n",
    "        lyrics = lyrics.replace('\\n', '.')\n",
    "        \n",
    "        # 첫 부분 글자만 남기게 (.For나 ' For' -> For)\n",
    "        s = lyrics.split()\n",
    "#        res = \"\".join(re.findall(\"[a-zA-Z]+\", s[0]))\n",
    "        s[0] = re.sub('[^A-Za-z0-9가-힣]', '', s[0])\n",
    "        lyrics = ' '.join(s)\n",
    "\n",
    "        # 마지막에 점 추가\n",
    "        lyrics = lyrics+'.'\n",
    "        lyrics = lyrics.replace(\"\\'\", \"\")\n",
    "\n",
    "    except:\n",
    "        lyrics = ''\n",
    "        \n",
    "    lyrics_list.append(lyrics)\n",
    "    \n",
    "    # 앨범 사진\n",
    "    imge = driver.find_element_by_xpath('//*[@id=\"container\"]/section[1]/div/div[1]/div/ul/li/a/img').get_attribute('src')\n",
    "\n",
    "    context = ssl._create_unverified_context()\n",
    "\n",
    "\n",
    "    with urlopen(imge, context=context) as f:\n",
    "        with open('img/'+str(singer)+'_'+str(song_name)+'.jpg', 'wb') as h:\n",
    "            img = f.read()\n",
    "            h.write(img)\n",
    "\n",
    "\n"
   ]
  },
  {
   "cell_type": "code",
   "execution_count": 39,
   "id": "6825c2ea",
   "metadata": {},
   "outputs": [],
   "source": [
    "driver.quit()"
   ]
  },
  {
   "cell_type": "code",
   "execution_count": null,
   "id": "f6a981d1",
   "metadata": {},
   "outputs": [],
   "source": []
  },
  {
   "cell_type": "code",
   "execution_count": 43,
   "id": "e8a295c8",
   "metadata": {},
   "outputs": [
    {
     "name": "stderr",
     "output_type": "stream",
     "text": [
      "100%|█████████████████████████████████████████████| 9/9 [02:26<00:00, 16.30s/it]\n"
     ]
    }
   ],
   "source": [
    "# 영어 스펠링 체크 > 한국어로 번역 > 한국어 맞춤법 교정\n",
    "from hanspell import spell_checker\n",
    "from gingerit.gingerit import GingerIt\n",
    "import math\n",
    "\n",
    "import googletrans\n",
    "translator = googletrans.Translator()\n",
    "finish = []\n",
    "\n",
    "for i in tqdm(range(len(lyrics_list))):\n",
    "    result = []\n",
    "    ori_target = lyrics_list[i]\n",
    "    lyric_length = len(ori_target)\n",
    "    need_list = math.ceil(lyric_length / 399) # 1.4개의 리스트가 필요하면 2개가 필요하다고 본다.\n",
    "\n",
    "    for i in range(need_list):\n",
    "        # 영어 스펠링 체크\n",
    "        target = ori_target[i*400:(i+1)*400]\n",
    "        target = target.replace(\"\\'\", \"\")\n",
    "        try:\n",
    "            corrected_text1 = GingerIt().parse(target)\n",
    "            to_kor = corrected_text1['result']\n",
    "        except:\n",
    "            to_kor = target\n",
    "\n",
    "        # 한국어로 번역하기\n",
    "        translated = translator.translate(to_kor, dest='ko').text\n",
    "        #print(translated)\n",
    "\n",
    "        # 한국어 맞춤법 교정\n",
    "        result.append(spell_checker.check(translated).checked)\n",
    "\n",
    "    finish.append(\",\".join(result))"
   ]
  },
  {
   "cell_type": "code",
   "execution_count": 46,
   "id": "98fb0181",
   "metadata": {},
   "outputs": [
    {
     "data": {
      "text/html": [
       "<div>\n",
       "<style scoped>\n",
       "    .dataframe tbody tr th:only-of-type {\n",
       "        vertical-align: middle;\n",
       "    }\n",
       "\n",
       "    .dataframe tbody tr th {\n",
       "        vertical-align: top;\n",
       "    }\n",
       "\n",
       "    .dataframe thead th {\n",
       "        text-align: right;\n",
       "    }\n",
       "</style>\n",
       "<table border=\"1\" class=\"dataframe\">\n",
       "  <thead>\n",
       "    <tr style=\"text-align: right;\">\n",
       "      <th></th>\n",
       "      <th>원가사</th>\n",
       "    </tr>\n",
       "  </thead>\n",
       "  <tbody>\n",
       "    <tr>\n",
       "      <th>0</th>\n",
       "      <td>도망가자어디든 가야 할 것만 같아.넌 금방이라도 울 것 같아.괜찮아.우리 가자.걱정...</td>\n",
       "    </tr>\n",
       "    <tr>\n",
       "      <th>1</th>\n",
       "      <td>젊은 놈들 전부 벌어가게 사장들 앞에.아저씨 stop it 해 랩이나 내 발밑이라도...</td>\n",
       "    </tr>\n",
       "    <tr>\n",
       "      <th>2</th>\n",
       "      <td>Honest to god.I dont remember why.I woke up on...</td>\n",
       "    </tr>\n",
       "    <tr>\n",
       "      <th>3</th>\n",
       "      <td>For the last few years.Its been pourin rain.So...</td>\n",
       "    </tr>\n",
       "    <tr>\n",
       "      <th>4</th>\n",
       "      <td>Where I’m from.Han is the name we gave to .str...</td>\n",
       "    </tr>\n",
       "    <tr>\n",
       "      <th>5</th>\n",
       "      <td>Had no connection, no faith or direction, no.S...</td>\n",
       "    </tr>\n",
       "    <tr>\n",
       "      <th>6</th>\n",
       "      <td>하아 힘든 세상.어디 하나 기댈 데도 없는.이 세상.너뿐이다 트로트.아무리 각 잡아...</td>\n",
       "    </tr>\n",
       "    <tr>\n",
       "      <th>7</th>\n",
       "      <td>아름다워 Like a flower.Life is like a flower.상을 탔어...</td>\n",
       "    </tr>\n",
       "    <tr>\n",
       "      <th>8</th>\n",
       "      <td>두근거렸지 .누군가 나의 뒤를 쫓고 있었고 .검은 절벽 끝 .더 이상 발 디딜 곳 ...</td>\n",
       "    </tr>\n",
       "  </tbody>\n",
       "</table>\n",
       "</div>"
      ],
      "text/plain": [
       "                                                 원가사\n",
       "0  도망가자어디든 가야 할 것만 같아.넌 금방이라도 울 것 같아.괜찮아.우리 가자.걱정...\n",
       "1  젊은 놈들 전부 벌어가게 사장들 앞에.아저씨 stop it 해 랩이나 내 발밑이라도...\n",
       "2  Honest to god.I dont remember why.I woke up on...\n",
       "3  For the last few years.Its been pourin rain.So...\n",
       "4  Where I’m from.Han is the name we gave to .str...\n",
       "5  Had no connection, no faith or direction, no.S...\n",
       "6  하아 힘든 세상.어디 하나 기댈 데도 없는.이 세상.너뿐이다 트로트.아무리 각 잡아...\n",
       "7  아름다워 Like a flower.Life is like a flower.상을 탔어...\n",
       "8  두근거렸지 .누군가 나의 뒤를 쫓고 있었고 .검은 절벽 끝 .더 이상 발 디딜 곳 ..."
      ]
     },
     "execution_count": 46,
     "metadata": {},
     "output_type": "execute_result"
    }
   ],
   "source": [
    "ori = pd.DataFrame(lyrics_list, columns =['원가사'])\n",
    "ori"
   ]
  },
  {
   "cell_type": "code",
   "execution_count": 47,
   "id": "8d135871",
   "metadata": {},
   "outputs": [
    {
     "data": {
      "text/html": [
       "<div>\n",
       "<style scoped>\n",
       "    .dataframe tbody tr th:only-of-type {\n",
       "        vertical-align: middle;\n",
       "    }\n",
       "\n",
       "    .dataframe tbody tr th {\n",
       "        vertical-align: top;\n",
       "    }\n",
       "\n",
       "    .dataframe thead th {\n",
       "        text-align: right;\n",
       "    }\n",
       "</style>\n",
       "<table border=\"1\" class=\"dataframe\">\n",
       "  <thead>\n",
       "    <tr style=\"text-align: right;\">\n",
       "      <th></th>\n",
       "      <th>1차 전처리 후</th>\n",
       "    </tr>\n",
       "  </thead>\n",
       "  <tbody>\n",
       "    <tr>\n",
       "      <th>0</th>\n",
       "      <td>도망가자 어디든 가야 할 것만 같아. 넌 금방이라도 울 것 같아. 괜찮아. 우리 가...</td>\n",
       "    </tr>\n",
       "    <tr>\n",
       "      <th>1</th>\n",
       "      <td>젊은 놈들 전부 벌어가게 사장들 앞에. 아저씨 stop it 해 랩이나 내 발밑이라...</td>\n",
       "    </tr>\n",
       "    <tr>\n",
       "      <th>2</th>\n",
       "      <td>정직한 하나님 께. 나는 그 이유를 기억하지 못한다. 나는 바닥에 일어났습니다. 4...</td>\n",
       "    </tr>\n",
       "    <tr>\n",
       "      <th>3</th>\n",
       "      <td>지난 몇 년 동안. 비가 쏟아져 나왔습니다. 그래서 나는 집에 머물러 왔습니다. 내...</td>\n",
       "    </tr>\n",
       "    <tr>\n",
       "      <th>4</th>\n",
       "      <td>Where I’m from. Han is the name we gave to. St...</td>\n",
       "    </tr>\n",
       "    <tr>\n",
       "      <th>5</th>\n",
       "      <td>연결이 없고 믿음이나 방향 없음, 아니오. 내 영혼을 구하기 위해 누군가를 검색하고...</td>\n",
       "    </tr>\n",
       "    <tr>\n",
       "      <th>6</th>\n",
       "      <td>하아 힘든 세상. 어디 하나 기댈 데도 없는. 이 세상. 너뿐이다 트로트. 아무리 ...</td>\n",
       "    </tr>\n",
       "    <tr>\n",
       "      <th>7</th>\n",
       "      <td>아름다워 Like a flower. Life is like a flower. 상을 ...</td>\n",
       "    </tr>\n",
       "    <tr>\n",
       "      <th>8</th>\n",
       "      <td>두근거렸지. 누군가 나의 뒤를 쫓고 있었고. 검은 절벽 끝. 더 이상 발 디딜 곳 ...</td>\n",
       "    </tr>\n",
       "  </tbody>\n",
       "</table>\n",
       "</div>"
      ],
      "text/plain": [
       "                                            1차 전처리 후\n",
       "0  도망가자 어디든 가야 할 것만 같아. 넌 금방이라도 울 것 같아. 괜찮아. 우리 가...\n",
       "1  젊은 놈들 전부 벌어가게 사장들 앞에. 아저씨 stop it 해 랩이나 내 발밑이라...\n",
       "2  정직한 하나님 께. 나는 그 이유를 기억하지 못한다. 나는 바닥에 일어났습니다. 4...\n",
       "3  지난 몇 년 동안. 비가 쏟아져 나왔습니다. 그래서 나는 집에 머물러 왔습니다. 내...\n",
       "4  Where I’m from. Han is the name we gave to. St...\n",
       "5  연결이 없고 믿음이나 방향 없음, 아니오. 내 영혼을 구하기 위해 누군가를 검색하고...\n",
       "6  하아 힘든 세상. 어디 하나 기댈 데도 없는. 이 세상. 너뿐이다 트로트. 아무리 ...\n",
       "7  아름다워 Like a flower. Life is like a flower. 상을 ...\n",
       "8  두근거렸지. 누군가 나의 뒤를 쫓고 있었고. 검은 절벽 끝. 더 이상 발 디딜 곳 ..."
      ]
     },
     "execution_count": 47,
     "metadata": {},
     "output_type": "execute_result"
    }
   ],
   "source": [
    "prepro = pd.DataFrame(finish, columns = ['1차 전처리 후'])\n",
    "prepro"
   ]
  },
  {
   "cell_type": "code",
   "execution_count": 48,
   "id": "d617e2bd",
   "metadata": {},
   "outputs": [
    {
     "data": {
      "text/html": [
       "<div>\n",
       "<style scoped>\n",
       "    .dataframe tbody tr th:only-of-type {\n",
       "        vertical-align: middle;\n",
       "    }\n",
       "\n",
       "    .dataframe tbody tr th {\n",
       "        vertical-align: top;\n",
       "    }\n",
       "\n",
       "    .dataframe thead th {\n",
       "        text-align: right;\n",
       "    }\n",
       "</style>\n",
       "<table border=\"1\" class=\"dataframe\">\n",
       "  <thead>\n",
       "    <tr style=\"text-align: right;\">\n",
       "      <th></th>\n",
       "      <th>가수</th>\n",
       "      <th>노래</th>\n",
       "      <th>원가사</th>\n",
       "      <th>1차 전처리 후</th>\n",
       "    </tr>\n",
       "  </thead>\n",
       "  <tbody>\n",
       "    <tr>\n",
       "      <th>0</th>\n",
       "      <td>선우정아</td>\n",
       "      <td>도망가자</td>\n",
       "      <td>도망가자어디든 가야 할 것만 같아.넌 금방이라도 울 것 같아.괜찮아.우리 가자.걱정...</td>\n",
       "      <td>도망가자 어디든 가야 할 것만 같아. 넌 금방이라도 울 것 같아. 괜찮아. 우리 가...</td>\n",
       "    </tr>\n",
       "    <tr>\n",
       "      <th>1</th>\n",
       "      <td>해쉬스완</td>\n",
       "      <td>요즘것들</td>\n",
       "      <td>젊은 놈들 전부 벌어가게 사장들 앞에.아저씨 stop it 해 랩이나 내 발밑이라도...</td>\n",
       "      <td>젊은 놈들 전부 벌어가게 사장들 앞에. 아저씨 stop it 해 랩이나 내 발밑이라...</td>\n",
       "    </tr>\n",
       "    <tr>\n",
       "      <th>2</th>\n",
       "      <td>에픽하이</td>\n",
       "      <td>HERE COME THE REGRETS</td>\n",
       "      <td>Honest to god.I dont remember why.I woke up on...</td>\n",
       "      <td>정직한 하나님 께. 나는 그 이유를 기억하지 못한다. 나는 바닥에 일어났습니다. 4...</td>\n",
       "    </tr>\n",
       "    <tr>\n",
       "      <th>3</th>\n",
       "      <td>에픽하이</td>\n",
       "      <td>Wish you were</td>\n",
       "      <td>For the last few years.Its been pourin rain.So...</td>\n",
       "      <td>지난 몇 년 동안. 비가 쏟아져 나왔습니다. 그래서 나는 집에 머물러 왔습니다. 내...</td>\n",
       "    </tr>\n",
       "    <tr>\n",
       "      <th>4</th>\n",
       "      <td>타블로</td>\n",
       "      <td>HOOD</td>\n",
       "      <td>Where I’m from.Han is the name we gave to .str...</td>\n",
       "      <td>Where I’m from. Han is the name we gave to. St...</td>\n",
       "    </tr>\n",
       "    <tr>\n",
       "      <th>5</th>\n",
       "      <td>maroon5</td>\n",
       "      <td>lost</td>\n",
       "      <td>Had no connection, no faith or direction, no.S...</td>\n",
       "      <td>연결이 없고 믿음이나 방향 없음, 아니오. 내 영혼을 구하기 위해 누군가를 검색하고...</td>\n",
       "    </tr>\n",
       "    <tr>\n",
       "      <th>6</th>\n",
       "      <td>에픽하이</td>\n",
       "      <td>트로트</td>\n",
       "      <td>하아 힘든 세상.어디 하나 기댈 데도 없는.이 세상.너뿐이다 트로트.아무리 각 잡아...</td>\n",
       "      <td>하아 힘든 세상. 어디 하나 기댈 데도 없는. 이 세상. 너뿐이다 트로트. 아무리 ...</td>\n",
       "    </tr>\n",
       "    <tr>\n",
       "      <th>7</th>\n",
       "      <td>코드쿤스트</td>\n",
       "      <td>꽃</td>\n",
       "      <td>아름다워 Like a flower.Life is like a flower.상을 탔어...</td>\n",
       "      <td>아름다워 Like a flower. Life is like a flower. 상을 ...</td>\n",
       "    </tr>\n",
       "    <tr>\n",
       "      <th>8</th>\n",
       "      <td>이적</td>\n",
       "      <td>하늘을 달리다</td>\n",
       "      <td>두근거렸지 .누군가 나의 뒤를 쫓고 있었고 .검은 절벽 끝 .더 이상 발 디딜 곳 ...</td>\n",
       "      <td>두근거렸지. 누군가 나의 뒤를 쫓고 있었고. 검은 절벽 끝. 더 이상 발 디딜 곳 ...</td>\n",
       "    </tr>\n",
       "  </tbody>\n",
       "</table>\n",
       "</div>"
      ],
      "text/plain": [
       "        가수                     노래  \\\n",
       "0     선우정아                   도망가자   \n",
       "1     해쉬스완                   요즘것들   \n",
       "2     에픽하이  HERE COME THE REGRETS   \n",
       "3     에픽하이          Wish you were   \n",
       "4      타블로                   HOOD   \n",
       "5  maroon5                   lost   \n",
       "6     에픽하이                    트로트   \n",
       "7    코드쿤스트                      꽃   \n",
       "8       이적                하늘을 달리다   \n",
       "\n",
       "                                                 원가사  \\\n",
       "0  도망가자어디든 가야 할 것만 같아.넌 금방이라도 울 것 같아.괜찮아.우리 가자.걱정...   \n",
       "1  젊은 놈들 전부 벌어가게 사장들 앞에.아저씨 stop it 해 랩이나 내 발밑이라도...   \n",
       "2  Honest to god.I dont remember why.I woke up on...   \n",
       "3  For the last few years.Its been pourin rain.So...   \n",
       "4  Where I’m from.Han is the name we gave to .str...   \n",
       "5  Had no connection, no faith or direction, no.S...   \n",
       "6  하아 힘든 세상.어디 하나 기댈 데도 없는.이 세상.너뿐이다 트로트.아무리 각 잡아...   \n",
       "7  아름다워 Like a flower.Life is like a flower.상을 탔어...   \n",
       "8  두근거렸지 .누군가 나의 뒤를 쫓고 있었고 .검은 절벽 끝 .더 이상 발 디딜 곳 ...   \n",
       "\n",
       "                                            1차 전처리 후  \n",
       "0  도망가자 어디든 가야 할 것만 같아. 넌 금방이라도 울 것 같아. 괜찮아. 우리 가...  \n",
       "1  젊은 놈들 전부 벌어가게 사장들 앞에. 아저씨 stop it 해 랩이나 내 발밑이라...  \n",
       "2  정직한 하나님 께. 나는 그 이유를 기억하지 못한다. 나는 바닥에 일어났습니다. 4...  \n",
       "3  지난 몇 년 동안. 비가 쏟아져 나왔습니다. 그래서 나는 집에 머물러 왔습니다. 내...  \n",
       "4  Where I’m from. Han is the name we gave to. St...  \n",
       "5  연결이 없고 믿음이나 방향 없음, 아니오. 내 영혼을 구하기 위해 누군가를 검색하고...  \n",
       "6  하아 힘든 세상. 어디 하나 기댈 데도 없는. 이 세상. 너뿐이다 트로트. 아무리 ...  \n",
       "7  아름다워 Like a flower. Life is like a flower. 상을 ...  \n",
       "8  두근거렸지. 누군가 나의 뒤를 쫓고 있었고. 검은 절벽 끝. 더 이상 발 디딜 곳 ...  "
      ]
     },
     "execution_count": 48,
     "metadata": {},
     "output_type": "execute_result"
    }
   ],
   "source": [
    "df = pd.concat([data, ori, prepro], axis=1)\n",
    "df"
   ]
  },
  {
   "cell_type": "code",
   "execution_count": 49,
   "id": "210c6f5e",
   "metadata": {},
   "outputs": [],
   "source": [
    "df.to_csv('크롤링한 가사.csv', encoding='utf-8-sig')"
   ]
  },
  {
   "cell_type": "markdown",
   "id": "4e4f1fb0",
   "metadata": {},
   "source": [
    "- 단점: 영어반, 한국어 반인 경우 영어가 번역되지 않고 거의 input 그대로 나온다.\n",
    "- 번역할 때 src를 지정 안해서 지금 자동으로 언어 캐치해서 바꿔주기 때문. \n",
    "- 하지만, src='eng'로 지정하면 위 단점이 해결되지만 (나머지 절반 영어가 번역됨), 한국어->한국어가 이상하게 나온다. 예를 들어 '나는 하늘을 날고 싶다' -> '나는 날난'?? 정확히 기억 안 나는데 대충 이렇게 원문장과 매우 동떨어진 결과가 나온다.\n",
    "- 결론: 2차 가공에서는 한글이랑 온점정도만 남기고 다 지우기..? (힘들다.)"
   ]
  },
  {
   "cell_type": "code",
   "execution_count": null,
   "id": "802e4184",
   "metadata": {},
   "outputs": [],
   "source": []
  },
  {
   "cell_type": "markdown",
   "id": "7754d0b8",
   "metadata": {},
   "source": [
    "# 아래는 과정"
   ]
  },
  {
   "cell_type": "markdown",
   "id": "d5d3d345",
   "metadata": {},
   "source": [
    "## 영어 가사 -> 한국어 가사로 변환\n",
    "- 바로 번역기를 돌려보았지만, 성능이 매우 나쁨을 볼 수 있었다. 이는 가사의 특성상 띄어쓰기와 줄바꿈, 문법 등이 비교적 자유로워서 좋지 못한 번역 결과가 나온 것으로 판단 된다. 때문에, 영어 스펠링 체크를 통해 번역 성능을 비교해본다.\n",
    "\n",
    "- 번역기는 googletrans를 이용하였다. (큰 이유는 없고 간편해서)"
   ]
  },
  {
   "cell_type": "code",
   "execution_count": 174,
   "id": "e1a78c17",
   "metadata": {},
   "outputs": [
    {
     "name": "stdout",
     "output_type": "stream",
     "text": [
      ".For the last few years.It's been pourin' rain.So I've been a stay home dad.My daughter saw the pain.And whispered Stay home Dad.And people's take on that is.That I'm washed up.Well dear.All my peers are drowning in their past.So I'd rather be.Right\n",
      "\n",
      ". 지난 몇 년 동안. 나는 쏟아져 나왔다. 나는 vie를 낳았다. 나는 집에 머물러 있었다. 내 딸은 고통을 보았다. 그리고 속삭였다. 아빠들을 속삭였다. 그리고 사람들이 씻어 내고있다.Dear.All 내 동료들은 그들의 과거에 익사하고 있습니다. 나는 오히려 낳을 것입니다.\n"
     ]
    }
   ],
   "source": [
    "import googletrans\n",
    "translator = googletrans.Translator()\n",
    "\n",
    "## 에픽하이의 Wish you were. (왜냐면 가사가 짧고.. 노래가 좋아서!!!)\n",
    "\n",
    "# 1) 원본, 번역기\n",
    "print(lyrics_list[3])\n",
    "print()\n",
    "print(translator.translate(lyrics_list[3], dest='ko').text)"
   ]
  },
  {
   "cell_type": "code",
   "execution_count": 175,
   "id": "48f04192",
   "metadata": {},
   "outputs": [
    {
     "name": "stdout",
     "output_type": "stream",
     "text": [
      " For the last few years It's been pourin' rain. So I've been a stay home dad. My daughter saw the pain. And whispered Stay home. Dad. And people's take on that is. That I'm washed up Well dear. All my peers are drowning in their past. So I'd rather be Right here. \n",
      "\n",
      "지난 몇 년 동안 그것은 비가 내리고 있습니다.그래서 나는 집에 머물러 왔습니다.내 딸이 고통을 보았습니다.그리고 속삭였다.아빠.사람들이 그걸 가져 가야합니다.내가 잘 씻겨 졌는지.모든 동료들은 과거에 익사하고 있습니다.그래서 나는 오히려 여기있을 것입니다.\n"
     ]
    }
   ],
   "source": [
    "tt = \" For the last few years It's been pourin' rain. So I've been a stay home dad. My daughter saw the pain. And whispered Stay home. Dad. And people's take on that is. That I'm washed up Well dear. All my peers are drowning in their past. So I'd rather be Right here. \"\n",
    "\n",
    "# 2) 수작업으로 온점 찍기, 번역기\n",
    "print(tt)\n",
    "print()\n",
    "print(translator.translate(tt, dest='ko').text)"
   ]
  },
  {
   "cell_type": "code",
   "execution_count": 188,
   "id": "475e1c6c",
   "metadata": {},
   "outputs": [
    {
     "name": "stdout",
     "output_type": "stream",
     "text": [
      ".For the last few years.It's been pourin' rain.So I've been a stay home dad.My daughter saw the pain.And whispered Stay home Dad.And people's take on that is.That I'm washed up.Well dear.All my peers are drowning in their past.So I'd rather be.Right\n",
      "\n",
      ".For the last few years.It's been pouring' rain.To I've been a stay home dad.By daughter saw the pain.And whispered Stay home Had.And people's take on that is.That I'm washed up.Well dear.All my peers are drowning in their past.To I'd rather be.Right\n",
      "\n",
      "지난 몇 년 동안 지난 몇 년 동안 쏟아져 나왔다. 나는 쏟아져 나왔다. 나는 집에 머물러 있었다.Dear.All 내 동료들은 그들의 과거에 익사하고 있습니다.\n"
     ]
    }
   ],
   "source": [
    "# 3) TextBlob이라는 영어 스펠링 체크 적용\n",
    "\n",
    "from textblob import TextBlob\n",
    "\n",
    "b = TextBlob(lyrics_list[3])\n",
    "checked_b = str(b.correct())\n",
    "\n",
    "print(lyrics_list[3])\n",
    "print()\n",
    "print(checked_b)\n",
    "print()\n",
    "print(translator.translate(checked_b, dest='ko').text)"
   ]
  },
  {
   "cell_type": "code",
   "execution_count": 178,
   "id": "7b8c4ead",
   "metadata": {},
   "outputs": [
    {
     "name": "stdout",
     "output_type": "stream",
     "text": [
      ".For the last few years.It's been pourin' rain.So I've been a stay home dad.My daughter saw the pain.And whispered Stay home Dad.And people's take on that is.That I'm washed up.Well dear.All my peers are drowning in their past.So I'd rather be.Right\n",
      "\n",
      ". For the last few years. It's been pouring' rain. So I've been a stay home dad. My daughter saw the pain. And whispered Stay home Dad. And people's take on that is. That I'm washed up. Well, dear. All my peers are drowning in their past. So I'd rather be. Right\n",
      "\n",
      "...에지난 몇 년 동안.비가 내리고 있었다.그래서 나는 집에 머물러 왔습니다.내 딸이 고통을 보았습니다.그리고 속삭였다.사람들이 그걸 가져 가야합니다.내가 씻겨 줬어.글쎄, 친애하는.모든 동료들은 과거에 익사하고 있습니다.그래서 나는 오히려있을 것입니다.오른쪽\n"
     ]
    }
   ],
   "source": [
    "# 4) GingerIt이라는 영어 스펠링 체크 적용\n",
    "\n",
    "from gingerit.gingerit import GingerIt\n",
    "\n",
    "corrected_text = GingerIt().parse(lyrics_list[3])\n",
    "new_result = corrected_text['result']\n",
    "\n",
    "print(lyrics_list[3])\n",
    "print()\n",
    "print(new_result)\n",
    "print()\n",
    "print(translator.translate(new_result, dest='ko').text)"
   ]
  },
  {
   "cell_type": "code",
   "execution_count": null,
   "id": "130a7c4e",
   "metadata": {},
   "outputs": [],
   "source": [
    "## 스펠링 체크하는 것이 더 말이되는 번역이 나온다.\n",
    "## 하지만 아직도 미흡한 듯하여 줄개행에 해당하는 문자에 변화주어 확인"
   ]
  },
  {
   "cell_type": "code",
   "execution_count": 3,
   "id": "ad28f029",
   "metadata": {},
   "outputs": [],
   "source": [
    "singer = '에픽하이'\n",
    "song_name = 'Wish you were'\n",
    "\n",
    "all_key = singer + ' ' + song_name\n",
    "driver.find_element_by_xpath('//*[@id=\"headerSearchInput\"]').send_keys(all_key)\n",
    "driver.find_element_by_xpath('//*[@id=\"hederSearchFormButton\"]').click()\n",
    "driver.find_element_by_xpath('//*[@id=\"DEFAULT0\"]/table/tbody/tr[1]/td[3]/a').click()\n",
    "html = driver.page_source\n",
    "soup = BeautifulSoup(html, 'lxml')\n",
    "lyrics = soup.find('div', attrs={'class':'lyricsContainer'}).text\n",
    "\n",
    "idx = lyrics.split(' ').index('님이')\n",
    "end_word = lyrics.split(' ')[idx-1]\n",
    "end_word_idx = lyrics.find(end_word)\n",
    "\n",
    "speical_end = end_word.find('\\n')\n",
    "lyrics = lyrics[:end_word_idx+speical_end]"
   ]
  },
  {
   "cell_type": "code",
   "execution_count": 192,
   "id": "c32ac010",
   "metadata": {},
   "outputs": [
    {
     "data": {
      "text/plain": [
       "\"\\nFor the last few years\\nIt's been pourin' rain\\nSo I've been a stay home dad\\nMy daughter saw the pain\\nAnd whispered Stay home Dad\\nAnd people's take on that is\\nThat I'm washed up\\nWell dear\\nAll my peers are drowning in their past\\nSo I'd rather be\\nRight here\""
      ]
     },
     "execution_count": 192,
     "metadata": {},
     "output_type": "execute_result"
    }
   ],
   "source": [
    "# 가사\n",
    "lyrics"
   ]
  },
  {
   "cell_type": "code",
   "execution_count": 194,
   "id": "8257fdc0",
   "metadata": {},
   "outputs": [],
   "source": [
    "# 줄개행 대신 온점\n",
    "first = lyrics.replace('\\n', '.')\n",
    "# 줄개행 대신 띄어쓰기\n",
    "second = lyrics.replace('\\n', ' ')"
   ]
  },
  {
   "cell_type": "code",
   "execution_count": 199,
   "id": "6e24d77d",
   "metadata": {},
   "outputs": [
    {
     "name": "stdout",
     "output_type": "stream",
     "text": [
      ".For the last few years.It's been pouring' rain.To I've been a stay home dad.By daughter saw the pain.And whispered Stay home Had.And people's take on that is.That I'm washed up.Well dear.All my peers are drowning in their past.To I'd rather be.Right here\n",
      "\n",
      "지난 몇 년 동안 지난 몇 년 동안 쏟아져 나왔다. 나는 쏟아져 나왔다. 나는 집에 머물러 있었다. 딸이 고통을 보았다. 그리고 그 밖에서 누워 있었다. 그리고 사람들이 씻어 내고있는 사람들이 씻어 내고있다.Dear.All 내 동료들이 그들의 과거에 익사하고 있습니다. 나는 여기에있을 것입니다.\n",
      "\n",
      " For the last few years It's been pouring' rain To I've been a stay home dad By daughter saw the pain And whispered Stay home Had And people's take on that is That I'm washed up Well dear All my peers are drowning in their past To I'd rather be Right here\n",
      "\n",
      "지난 몇 년 동안 그것은 쏟아지는 것입니다. 나는 딸이 고통을 겪고있는 집에 머물고있는 집에 머물러 있고, 사람들이 가지고있는 사람들이 씻어 내고있는 모든 동료들이 모든 동료들이 익사하고 있다는 것입니다.나는 오히려 여기에 있고 싶습니다\n"
     ]
    }
   ],
   "source": [
    "# TextBlob으로 비교\n",
    "from textblob import TextBlob\n",
    "\n",
    "b = TextBlob(first)\n",
    "c = TextBlob(second)\n",
    "print(str(b.correct()))\n",
    "print()\n",
    "print(translator.translate(str(b.correct()), dest='ko').text)\n",
    "print()\n",
    "\n",
    "print(str(c.correct()))\n",
    "print()\n",
    "print(translator.translate(str(c.correct()), dest='ko').text)"
   ]
  },
  {
   "cell_type": "code",
   "execution_count": 201,
   "id": "8e0ff7ba",
   "metadata": {},
   "outputs": [
    {
     "name": "stdout",
     "output_type": "stream",
     "text": [
      ". For the last few years. It's been pouring' rain. So I've been a stay home dad. My daughter saw the pain. And whispered Stay home Dad. And people's take on that is. That I'm washed up. Well, dear. All my peers are drowning in their past. So I'd rather be. Right here\n",
      "\n",
      "...에지난 몇 년 동안.비가 내리고 있었다.그래서 나는 집에 머물러 왔습니다.내 딸이 고통을 보았습니다.그리고 속삭였다.사람들이 그걸 가져 가야합니다.내가 씻겨 줬어.글쎄, 친애하는.모든 동료들은 과거에 익사하고 있습니다.그래서 나는 오히려있을 것입니다.바로 여기에\n",
      "\n",
      " For the last few years It's been pouring' rain So I've been a stay home dad My daughter saw the pain And whispered Stay home Dad And people's take on that is That I'm washed up Well dear All my peers are drowning in their past So I'd rather be Right here\n",
      "\n",
      "지난 몇 년 동안 그것은 쏟아져 나오는 비가 쏟아져 나와 딸이 고통을 보았고 집에 머물러 있고 사람들이 그걸로 씻어내는 것이 잘 씻겨 졌다는 것입니다.나는 오히려 여기에있을 것입니다\n"
     ]
    }
   ],
   "source": [
    "# GingerIt으로 비교\n",
    "from gingerit.gingerit import GingerIt\n",
    "\n",
    "corrected_text1 = GingerIt().parse(first)\n",
    "corrected_text2 = GingerIt().parse(second)\n",
    "\n",
    "print(corrected_text1['result'])\n",
    "print()\n",
    "print(translator.translate(corrected_text1['result'], dest='ko').text)\n",
    "print()\n",
    "\n",
    "print(corrected_text2['result'])\n",
    "print()\n",
    "print(translator.translate(corrected_text2['result'], dest='ko').text)"
   ]
  },
  {
   "cell_type": "code",
   "execution_count": 247,
   "id": "4dfbb0a8",
   "metadata": {},
   "outputs": [
    {
     "data": {
      "text/plain": [
       "\"For the last few years.It's been pourin' rain.So I've been a stay home dad.My daughter saw the pain.And whispered Stay home Dad.And people's take on that is.That I'm washed up.Well dear.All my peers are drowning in their past.So I'd rather be.Right here..\""
      ]
     },
     "execution_count": 247,
     "metadata": {},
     "output_type": "execute_result"
    }
   ],
   "source": [
    "## 공통적으로 줄개행 대신 온점 찍는 것이 더 말이 되는 것 같다. (주관적)\n",
    "## 하지만 앞부분이랑 뒤를 더 신경써야될것 같아서 전처리 추가\n",
    "\n",
    "# 첫부분에 글자만\n",
    "s = first.split()\n",
    "res = \"\".join(re.findall(\"[a-zA-Z]+\", s[0]))\n",
    "s[0] = res\n",
    "first = ' '.join(s)\n",
    "\n",
    "# 마지막에 점 추가\n",
    "first = first+'.'\n",
    "\n",
    "first"
   ]
  },
  {
   "cell_type": "code",
   "execution_count": 248,
   "id": "9d50c53b",
   "metadata": {},
   "outputs": [
    {
     "name": "stdout",
     "output_type": "stream",
     "text": [
      "For the last few years.It's been pouring' rain.To I've been a stay home dad.By daughter saw the pain.And whispered Stay home Had.And people's take on that is.That I'm washed up.Well dear.All my peers are drowning in their past.To I'd rather be.Right here..\n",
      "\n",
      "지난 몇 년 동안. 나는 쏟아져 나오고있다. 나는 집에 머물러 있었다. 딸이 고통을 보았다. 그리고 얘들 아가씨.. 모든 동료들은 과거에 익사하고 있습니다. 나는 차라리있을 것입니다.\n",
      "\n",
      "For the last few years. It's been pouring' rain. So I've been a stay home dad. My daughter saw the pain. And whispered Stay home Dad. And people's take on that is. That I'm washed up. Well, dear. All my peers are drowning in their past. So I'd rather be. Right here..\n",
      "\n",
      "지난 몇 년 동안.비가 내리고 있었다.그래서 나는 집에 머물러 왔습니다.내 딸이 고통을 보았습니다.그리고 속삭였다.사람들이 그걸 가져 가야합니다.내가 씻겨 줬어.글쎄, 친애하는.모든 동료들은 과거에 익사하고 있습니다.그래서 나는 오히려있을 것입니다.바로 여기에..\n"
     ]
    }
   ],
   "source": [
    "c = TextBlob(first)\n",
    "print(str(c.correct()))\n",
    "print()\n",
    "print(translator.translate(str(c.correct()), dest='ko').text)\n",
    "print()\n",
    "\n",
    "corrected_text1 = GingerIt().parse(first)\n",
    "print(corrected_text1['result'])\n",
    "print()\n",
    "print(translator.translate(corrected_text1['result'], dest='ko').text)"
   ]
  },
  {
   "cell_type": "code",
   "execution_count": 308,
   "id": "3ece830a",
   "metadata": {},
   "outputs": [],
   "source": [
    "## 엄청 마음에 드는 것은 아니지만, 그래도 raw로 번역하는 것보다 더 좋은 성능이 나온다.\n",
    "## 번역 후 한국어 스펠링 체크 필요"
   ]
  },
  {
   "cell_type": "markdown",
   "id": "1c115c51",
   "metadata": {},
   "source": [
    "# 영어 스펠링 체크 > 한국어로 번역 > 한국어 문법 및 맞춤법 체크"
   ]
  },
  {
   "cell_type": "code",
   "execution_count": 309,
   "id": "945d2176",
   "metadata": {},
   "outputs": [
    {
     "name": "stdout",
     "output_type": "stream",
     "text": [
      ".젊은 놈들 전부 벌어가게 사장들 앞에.아저씨 stop it 해 랩이나 내 발밑이라도 닿게.한 시즌만에 갔지 dab은 so checkin new shit 배로.봐 내 여유 The deep-set eyes 여긴 없지 trend.안따라가도 난 안빠져 눈 굴리는 놈 대답바로.99년생 민증도 못땠지 난 B rabbit 너흰 papadog.어린새끼 유명해 나빠보여 ? okay 그랬겠지 나라도.근데 넌 절대 못해 나 했던대로 두번 태어나봐도.Yeah 난 유행됐고 다 돌려 끼지.귀 밑에 껴놔 홍원's rings.but 내꺼랑 달라 길이.구매처를 알아 Dickids.yeah make up을하는 팀 나의 부름에 답해.young b stan by .삼다수 When i splash..묵묵하시던 아저씨도.꼭 한번씩 뭐라하시죠.옷입은 꼬라지 저 꼬라지 좀 보라지.아예 아예 아 예 예 예.Ah yeah ah yeah yeah yeah.요즘것들 이래서 안 돼요.요즘것들 이래서 안 돼요.각도는 18도로 굽힌채로.아예 아예 아 예 예 예.Ah yeah ah yeah yeah yeah..끝이 없는 배움의 끝 난 대충해도 돼 재능의 부.음 이런 쉽게 살려는 요즘 애들 또 배우겠군.이봐 그럼 안되요 요즘 애들이 이래요 .이런 말을 하면 꼰대래요.풉 풉 풉 메롱.Im stackin stackin money .요즘 은행가면 엄마 카드인줄 아네.야 요즘 애들은 엄마 카들 쓰면서 짝퉁에 민감하다매.야 야 야 꺼져 압구정 매장이 열면 .난 요즘 애들은 비싸 쳐다도 못보는 .가격표의 먼지를 털어.요즘 유행이잖아 총 모양의 손 우리 야망.뒤쳐진것들 플레이리스트에 갖다 대고 빵야 빵야.너도 요즘 애들 되고 싶다면 우선 비와이 형부터 까.요즘 것들은 열등감이 다라는 .내 지난 1년의 연구성과 야..요즘 나 좀 hashtag 섹시.택 시 처럼 타 비 행기.펌핑 댄싱 역기 땡김 청기 백기.이 버르장 머리 없는 새끼.SNS SOS so hot.더블클릭에 좋아요는 heart?!.WIFI LOG ON REFRESH SCROLL DOWN.쏟아지네 POST AFTER POST 쿵쿵쾅 핵 폭 탄.랩퍼가 너무많아 요즘엔 워.경계가 어딨어 언더나 메이저.요즘 애들은 더 원해 쌘거.그래서 난 여기에 가져왔어 생 것.타.비. 나 다듀 아니면 갬블.전부다 sprite gang 처음부터 game 끝.얘끼 맴매 때찌.정신 나간 돼지!..묵묵하시던 아저씨도.꼭 한번씩 뭐라하시죠.옷입은 꼬라지 저 꼬라지 좀 보라지.아예 아예 아 예 예 예.Ah yeah ah yeah yeah yeah.요즘것들 이래서 안 돼요.요즘것들 이래서 안 돼요.각도는 18도로 굽힌채로.아예 아예 아 예 예 예.Ah yeah ah yeah yeah yeah..배고픔을 돈주고산.니가 누굴 대변해 뻥친가사.매달 배로 받는 저작권에.때깔을 잡고 새옷과 새신발사.난 너처럼 절대 뻥안쳐.춤추고 싶으면 식대로 막 춰.남의 눈친 왜봐?.내 생각에 힙합은 자유로운 외박.척하면 안되는 게임에 끝판깨.고인물엔 재빠르게 발빼.그게 행주가 인맥 없는 이유.술자리 사진 안찍히는 이유.난 나를 믿지 하고픈 음악과.내 선택을 믿지 내 앞길을 막거나.말건 I don't care Wait wait.내이름을 기억해.행주in쥬만지 아주 동물적인 Groove를.타주지 하룻개새낀 범 무서운줄도 모르고 등.뒤에서 날 대신해서 내 드라마 각본을 써.편견은 반전줄때 더 효과있댔지.이건 유쥬얼서스펙트..묵묵하시던 아저씨도.꼭 한번씩 뭐라하시죠.옷입은 꼬라지 저 꼬라지 좀 보라지.아예 아예 아 예 예 예.Ah yeah ah yeah yeah yeah.요즘것들 이래서 안 돼요.요즘것들 이래서 안 돼요.각도는 18도로 굽힌채로.아예 아예 아 예 예 예.Ah yeah ah yeah yeah yeah..요즘것들 요즘것들.요즘것들 요즘것들.요즘것들 요즘것들.Ah yeah ah yeah yeah yeah.요즘것들 요즘것들.요즘것들 요즘것들.요즘것들 요즘것들.Ah yeah ah yeah yeah\n",
      "\n",
      "주로 한국어 가사임\n",
      "\n",
      ".젊은 놈들 전부 벌어가게 사장들 앞에.아저씨 stop it 해 랩이나 내 발밑이라도 닿게.한 시즌만에 갔지 dab은 so checkin new shit 배로.봐 내 여유 The deep-set eyes 여긴 없지 trend.안따라가도 난 안빠져 눈 굴리는 놈 대답바로.99년생 민증도 못땠지 난 B rabbit 너흰 papadog.어린새끼 유명해 나빠보여 ? okay 그랬겠지 나라도.근데 넌 절대 못해 나 했던대로 두번 태어나봐도.Yeah 난 유행됐고 다 돌려 끼지.귀 밑에 껴놔 홍원's rings.but 내꺼랑 달라 길이.구매처를 알아 Dickids.yeah make up을하는 팀 나의 부름에 답해.young b stan by .삼다수 When i splash..묵묵하시던 아저씨도.꼭 한번씩 뭐라하시죠.옷입은 꼬라지 저 꼬라지 좀 보라지.아예 아예 아 예 예 예.Ah yeah ah yeah yeah yeah.요즘것들 이래서 안 돼요.요즘것들 이래서 안 돼요.각도는 18도로 굽힌채로.아예 아예 아 예 예 예.Ah yeah ah yeah yeah yeah..끝이 없는 배움의 끝 난 대충해도 돼 재능의 부.음 이런 쉽게 살려는 요즘 애들 또 배우겠군.이봐 그럼 안되요 요즘 애들이 이래요 .이런 말을 하면 꼰대래요.풉 풉 풉 메롱.Im stackin stackin money .요즘 은행가면 엄마 카드인줄 아네.야 요즘 애들은 엄마 카들 쓰면서 짝퉁에 민감하다매.야 야 야 꺼져 압구정 매장이 열면 .난 요즘 애들은 비싸 쳐다도 못보는 .가격표의 먼지를 털어.요즘 유행이잖아 총 모양의 손 우리 야망.뒤쳐진것들 플레이리스트에 갖다 대고 빵야 빵야.너도 요즘 애들 되고 싶다면 우선 비와이 형부터 까.요즘 것들은 열등감이 다라는 .내 지난 1년의 연구성과 야..요즘 나 좀 hashtag 섹시.택 시 처럼 타 비 행기.펌핑 댄싱 역기 땡김 청기 백기.이 버르장 머리 없는 새끼.SNS SOS so hot.더블클릭에 좋아요는 heart?!.WIFI LOG ON REFRESH SCROLL DOWN.쏟아지네 POST AFTER POST 쿵쿵쾅 핵 폭 탄.랩퍼가 너무많아 요즘엔 워.경계가 어딨어 언더나 메이저.요즘 애들은 더 원해 쌘거.그래서 난 여기에 가져왔어 생 것.타.비. 나 다듀 아니면 갬블.전부다 sprite gang 처음부터 game 끝.얘끼 맴매 때찌.정신 나간 돼지!..묵묵하시던 아저씨도.꼭 한번씩 뭐라하시죠.옷입은 꼬라지 저 꼬라지 좀 보라지.아예 아예 아 예 예 예.Ah yeah ah yeah yeah yeah.요즘것들 이래서 안 돼요.요즘것들 이래서 안 돼요.각도는 18도로 굽힌채로.아예 아예 아 예 예 예.Ah yeah ah yeah yeah yeah..배고픔을 돈주고산.니가 누굴 대변해 뻥친가사.매달 배로 받는 저작권에.때깔을 잡고 새옷과 새신발사.난 너처럼 절대 뻥안쳐.춤추고 싶으면 식대로 막 춰.남의 눈친 왜봐?.내 생각에 힙합은 자유로운 외박.척하면 안되는 게임에 끝판깨.고인물엔 재빠르게 발빼.그게 행주가 인맥 없는 이유.술자리 사진 안찍히는 이유.난 나를 믿지 하고픈 음악과.내 선택을 믿지 내 앞길을 막거나.말건 I don't care Wait wait.내이름을 기억해.행주in쥬만지 아주 동물적인 Groove를.타주지 하룻개새낀 범 무서운줄도 모르고 등.뒤에서 날 대신해서 내 드라마 각본을 써.편견은 반전줄때 더 효과있댔지.이건 유쥬얼서스펙트..묵묵하시던 아저씨도.꼭 한번씩 뭐라하시죠.옷입은 꼬라지 저 꼬라지 좀 보라지.아예 아예 아 예 예 예.Ah yeah ah yeah yeah yeah.요즘것들 이래서 안 돼요.요즘것들 이래서 안 돼요.각도는 18도로 굽힌채로.아예 아예 아 예 예 예.Ah yeah ah yeah yeah yeah..요즘것들 요즘것들.요즘것들 요즘것들.요즘것들 요즘것들.Ah yeah ah yeah yeah yeah.요즘것들 요즘것들.요즘것들 요즘것들.요즘것들 요즘것들.Ah yeah ah yeah yeah\n"
     ]
    }
   ],
   "source": [
    "# 영어 스펠링 체크\n",
    "target = lyrics_list[1]\n",
    "print(target)\n",
    "print()\n",
    "\n",
    "try:\n",
    "    corrected_text1 = GingerIt().parse(target)\n",
    "    to_kor = corrected_text1['result']\n",
    "except:\n",
    "    to_kor = target\n",
    "    print('주로 한국어 가사임')\n",
    "    print()\n",
    "\n",
    "# 한국어로 번역하기\n",
    "translated = translator.translate(to_kor, dest='ko').text\n",
    "print(translated)\n"
   ]
  },
  {
   "cell_type": "code",
   "execution_count": 310,
   "id": "b3f2867e",
   "metadata": {},
   "outputs": [],
   "source": [
    "# 한국어 번역\n",
    "# https://github.com/ssut/py-hanspell/blob/master/hanspell/spell_checker.py\n",
    "## 긴 가사는 자꾸 False가 나와서 보았더니 최대 500자였다...ㅎㅎ\n",
    "\n",
    "# 구글 번역도 글자 수 제한이 있더라.\n",
    "# https://github.com/UlionTse/translators/issues/40"
   ]
  },
  {
   "cell_type": "code",
   "execution_count": 311,
   "id": "94ed3e7b",
   "metadata": {},
   "outputs": [],
   "source": [
    "from hanspell import spell_checker\n",
    "import math\n",
    "\n",
    "result = []\n",
    "\n",
    "check_spelling = translated\n",
    "lyric_length = len(check_spelling)\n",
    "\n",
    "need_list = math.ceil(lyric_length / 499) # 1.4개의 리스트가 필요하면 2개가 필요하다고 본다.\n",
    "\n",
    "for i in range(need_list):\n",
    "    result.append(spell_checker.check(check_spelling[i*500:(i+1)*500]).checked)\n",
    "    \n",
    "finish = \",\".join(result)"
   ]
  },
  {
   "cell_type": "code",
   "execution_count": 312,
   "id": "4a524da9",
   "metadata": {},
   "outputs": [
    {
     "data": {
      "text/plain": [
       "\". 젊은 놈들 전부 벌어가게 사장들 앞에. 아저씨 stop it 해 랩이나 내 발밑이라도 닿게. 한 시즌만에 갔지 dab은 so checkin new shit 배로. 봐 내 여유 The deep-set eyes 여긴 없지 trend. 안 따라가도 난 안 빠져 눈 굴리는 놈 대답 바로. 99년생 민증도 못 땠지 난 B rabbit 너흰 papadog. 어린 새끼 유명해 나빠 보여? okay 그랬겠지 나라도. 근데 넌 절대 못해 나 했던 대로 두 번 태어나 봐도. Yeah 난 유행됐고 다 돌려 끼지. 귀밑에 껴놔 홍원's rings.but 내 거랑 달라 길이. 구매처를 알아 Dickids.yeah make up을 하는 팀 나의 부름에 답해. young b stan by. 삼다수 When i splash.. 묵묵하시던 아저씨도. 꼭 한 번씩 뭐라 하시죠. 옷 입은 꼬락서니 저 꼬락서니 좀 보라지. 아예 아예 아 예 예 예. Ah yeah ah yeah yeah yeah. 요즘 것들 이래서 안 돼요. 요즘 것들 이래서 안 돼요. 각도는 18도로 굽힌 채로,.아예 아예 아 예 예 예. Ah yeah ah yeah yeah yeah.. 끝이 없는 배움의 끝난 대충 해도 돼 재능의 부. 음 이런 쉽게 살려는 요즘 애들 또 배우겠군. 이봐 그럼 안돼요 요즘 애들이 이래요. 이런 말을 하면 꼰대래요. 풋 풋 풋 메롱. Im stackin stackin money. 요즘 은행 가면 엄마 카드인 줄 아네. 야 요즘 애들은 엄마 카들 쓰면서 짝퉁에 민감하다며. 야 야 야 꺼져 압구정 매장이 열면. 난 요즘 애들은 비싸 쳐다도 못 보는. 가격표의 먼지를 털어. 요즘 유행이잖아 총 모양의 손 우리 야망. 뒤처진 것들 플레이리스트에 갖다 대고 빵야 빵야. 너도 요즘 애들 되고 싶다면 우선 비와이 형부터 까. 요즘 것들은 열등감이 다라는. 내 지난 1년의 연구성과 야.. 요즘 나 좀 hashtag 섹시. 택 시처럼 타 비 행기. 펌핑 댄싱 역기 땅김 청기 백기. 이 버르장 머리 없는 새끼. SNS SOS so hot. 더블클릭에 좋아요는 heart?!.WI FI LOG ON REFRESH SC,ROLL DOWN. 쏟아지네 POST AFTER POST 쿵쿵 쾅 핵 폭 탄. 래퍼가 너무 많아 요즘엔 워. 경계가 어딨어 언더나 메이저. 요즘 애들은 더 원해 쌘 거. 그래서 난 여기에 가져왔어 생 것. 타. 비. 나 다듀 아니면 갬블. 전부다 sprite gang 처음부터 game 끝. 얘기 맴매 때지. 정신 나간 돼지!.. 묵묵하시던 아저씨도. 꼭 한 번씩 뭐라 하시죠. 옷 입은 꼬락서니 저 꼬락서니 좀 보라지. 아예 아예 아 예 예 예. Ah yeah ah yeah yeah yeah. 요즘 것들 이래서 안 돼요. 요즘 것들 이래서 안 돼요. 각도는 18도로 굽힌 채로. 아예 아예 아 예 예 예. Ah yeah ah yeah yeah yeah.. 배고픔을 돈 주고 산. 네가 누굴 대변해 뻥친 가사. 매달 배로 받는 저작권에. 때깔을 잡고 새 옷과 새 신발사. 난 너처럼 절대 뻥 안 쳐. 춤추고 싶으면 식대로 막 춰. 남의 눈치 왜 봐?.내 생각에 힙합은 자유로운 외박. 척하면 안 되는 게임에 끝판께. 고인 물엔 재빠르게 발 빼. 그게 행주가 인맥 없는 이유. 술자리 사진, 안 찍히는 이유. 난 나를 믿지 하고픈 음악과. 내 선택을 믿지 내 앞길을 막거나. 말건 I don't care Wait wait. 내 이름을 기억해. 행주 in 쥬만지 아주 동물적인 Groove를. 타주지 하룻 개새 낀 범 무서운 줄도 모르고 등. 뒤에서 날 대신해서 내 드라마 각본을 써. 편견은 반전 줄 때 더 효과있댔지.이건 유주얼 서스펙트.. 묵묵하시던 아저씨도. 꼭 한 번씩 뭐라 하시죠. 옷 입은 꼬락서니 저 꼬락서니 좀 보라지. 아예 아예 아 예 예 예. Ah yeah ah yeah yeah yeah. 요즘 것들 이래서 안 돼요. 요즘 것들 이래서 안 돼요. 각도는 18도로 굽힌 채로. 아예 아예 아 예 예 예. Ah yeah ah yeah yeah yeah.. 요즘 것들 요즘 것들. 요즘 것들 요즘 것들. 요즘 것들 요즘 것들. Ah yeah ah yeah yeah yeah. 요즘 것들 요즘 것들. 요즘 것들 요즘 것들. 요즘 것들 요즘 것들. Ah yeah ah yeah yeah\""
      ]
     },
     "execution_count": 312,
     "metadata": {},
     "output_type": "execute_result"
    }
   ],
   "source": [
    "finish"
   ]
  },
  {
   "cell_type": "code",
   "execution_count": null,
   "id": "0c99d989",
   "metadata": {},
   "outputs": [],
   "source": []
  }
 ],
 "metadata": {
  "kernelspec": {
   "display_name": "Python 3 (ipykernel)",
   "language": "python",
   "name": "python3"
  },
  "language_info": {
   "codemirror_mode": {
    "name": "ipython",
    "version": 3
   },
   "file_extension": ".py",
   "mimetype": "text/x-python",
   "name": "python",
   "nbconvert_exporter": "python",
   "pygments_lexer": "ipython3",
   "version": "3.9.4"
  }
 },
 "nbformat": 4,
 "nbformat_minor": 5
}
